{
 "cells": [
  {
   "cell_type": "markdown",
   "id": "5ad82528",
   "metadata": {},
   "source": [
    "# Data Mining Course Project on Videogame Sales\n",
    "## Samuel Ramirez"
   ]
  },
  {
   "cell_type": "code",
   "execution_count": 1,
   "id": "32f91ef1",
   "metadata": {},
   "outputs": [
    {
     "name": "stdout",
     "output_type": "stream",
     "text": [
      "Number of instances = 16598\n",
      "Number of attributes = 11\n"
     ]
    },
    {
     "data": {
      "text/html": [
       "<div>\n",
       "<style scoped>\n",
       "    .dataframe tbody tr th:only-of-type {\n",
       "        vertical-align: middle;\n",
       "    }\n",
       "\n",
       "    .dataframe tbody tr th {\n",
       "        vertical-align: top;\n",
       "    }\n",
       "\n",
       "    .dataframe thead th {\n",
       "        text-align: right;\n",
       "    }\n",
       "</style>\n",
       "<table border=\"1\" class=\"dataframe\">\n",
       "  <thead>\n",
       "    <tr style=\"text-align: right;\">\n",
       "      <th></th>\n",
       "      <th>Rank</th>\n",
       "      <th>Name</th>\n",
       "      <th>Platform</th>\n",
       "      <th>Year</th>\n",
       "      <th>Genre</th>\n",
       "      <th>Publisher</th>\n",
       "      <th>NA_Sales</th>\n",
       "      <th>EU_Sales</th>\n",
       "      <th>JP_Sales</th>\n",
       "      <th>Other_Sales</th>\n",
       "      <th>Global_Sales</th>\n",
       "    </tr>\n",
       "  </thead>\n",
       "  <tbody>\n",
       "    <tr>\n",
       "      <th>0</th>\n",
       "      <td>1</td>\n",
       "      <td>Wii Sports</td>\n",
       "      <td>Wii</td>\n",
       "      <td>2006.0</td>\n",
       "      <td>Sports</td>\n",
       "      <td>Nintendo</td>\n",
       "      <td>41.49</td>\n",
       "      <td>29.02</td>\n",
       "      <td>3.77</td>\n",
       "      <td>8.46</td>\n",
       "      <td>82.74</td>\n",
       "    </tr>\n",
       "    <tr>\n",
       "      <th>1</th>\n",
       "      <td>2</td>\n",
       "      <td>Super Mario Bros.</td>\n",
       "      <td>NES</td>\n",
       "      <td>1985.0</td>\n",
       "      <td>Platform</td>\n",
       "      <td>Nintendo</td>\n",
       "      <td>29.08</td>\n",
       "      <td>3.58</td>\n",
       "      <td>6.81</td>\n",
       "      <td>0.77</td>\n",
       "      <td>40.24</td>\n",
       "    </tr>\n",
       "    <tr>\n",
       "      <th>2</th>\n",
       "      <td>3</td>\n",
       "      <td>Mario Kart Wii</td>\n",
       "      <td>Wii</td>\n",
       "      <td>2008.0</td>\n",
       "      <td>Racing</td>\n",
       "      <td>Nintendo</td>\n",
       "      <td>15.85</td>\n",
       "      <td>12.88</td>\n",
       "      <td>3.79</td>\n",
       "      <td>3.31</td>\n",
       "      <td>35.82</td>\n",
       "    </tr>\n",
       "    <tr>\n",
       "      <th>3</th>\n",
       "      <td>4</td>\n",
       "      <td>Wii Sports Resort</td>\n",
       "      <td>Wii</td>\n",
       "      <td>2009.0</td>\n",
       "      <td>Sports</td>\n",
       "      <td>Nintendo</td>\n",
       "      <td>15.75</td>\n",
       "      <td>11.01</td>\n",
       "      <td>3.28</td>\n",
       "      <td>2.96</td>\n",
       "      <td>33.00</td>\n",
       "    </tr>\n",
       "    <tr>\n",
       "      <th>4</th>\n",
       "      <td>5</td>\n",
       "      <td>Pokemon Red/Pokemon Blue</td>\n",
       "      <td>GB</td>\n",
       "      <td>1996.0</td>\n",
       "      <td>Role-Playing</td>\n",
       "      <td>Nintendo</td>\n",
       "      <td>11.27</td>\n",
       "      <td>8.89</td>\n",
       "      <td>10.22</td>\n",
       "      <td>1.00</td>\n",
       "      <td>31.37</td>\n",
       "    </tr>\n",
       "    <tr>\n",
       "      <th>5</th>\n",
       "      <td>6</td>\n",
       "      <td>Tetris</td>\n",
       "      <td>GB</td>\n",
       "      <td>1989.0</td>\n",
       "      <td>Puzzle</td>\n",
       "      <td>Nintendo</td>\n",
       "      <td>23.20</td>\n",
       "      <td>2.26</td>\n",
       "      <td>4.22</td>\n",
       "      <td>0.58</td>\n",
       "      <td>30.26</td>\n",
       "    </tr>\n",
       "    <tr>\n",
       "      <th>6</th>\n",
       "      <td>7</td>\n",
       "      <td>New Super Mario Bros.</td>\n",
       "      <td>DS</td>\n",
       "      <td>2006.0</td>\n",
       "      <td>Platform</td>\n",
       "      <td>Nintendo</td>\n",
       "      <td>11.38</td>\n",
       "      <td>9.23</td>\n",
       "      <td>6.50</td>\n",
       "      <td>2.90</td>\n",
       "      <td>30.01</td>\n",
       "    </tr>\n",
       "    <tr>\n",
       "      <th>7</th>\n",
       "      <td>8</td>\n",
       "      <td>Wii Play</td>\n",
       "      <td>Wii</td>\n",
       "      <td>2006.0</td>\n",
       "      <td>Misc</td>\n",
       "      <td>Nintendo</td>\n",
       "      <td>14.03</td>\n",
       "      <td>9.20</td>\n",
       "      <td>2.93</td>\n",
       "      <td>2.85</td>\n",
       "      <td>29.02</td>\n",
       "    </tr>\n",
       "    <tr>\n",
       "      <th>8</th>\n",
       "      <td>9</td>\n",
       "      <td>New Super Mario Bros. Wii</td>\n",
       "      <td>Wii</td>\n",
       "      <td>2009.0</td>\n",
       "      <td>Platform</td>\n",
       "      <td>Nintendo</td>\n",
       "      <td>14.59</td>\n",
       "      <td>7.06</td>\n",
       "      <td>4.70</td>\n",
       "      <td>2.26</td>\n",
       "      <td>28.62</td>\n",
       "    </tr>\n",
       "    <tr>\n",
       "      <th>9</th>\n",
       "      <td>10</td>\n",
       "      <td>Duck Hunt</td>\n",
       "      <td>NES</td>\n",
       "      <td>1984.0</td>\n",
       "      <td>Shooter</td>\n",
       "      <td>Nintendo</td>\n",
       "      <td>26.93</td>\n",
       "      <td>0.63</td>\n",
       "      <td>0.28</td>\n",
       "      <td>0.47</td>\n",
       "      <td>28.31</td>\n",
       "    </tr>\n",
       "    <tr>\n",
       "      <th>10</th>\n",
       "      <td>11</td>\n",
       "      <td>Nintendogs</td>\n",
       "      <td>DS</td>\n",
       "      <td>2005.0</td>\n",
       "      <td>Simulation</td>\n",
       "      <td>Nintendo</td>\n",
       "      <td>9.07</td>\n",
       "      <td>11.00</td>\n",
       "      <td>1.93</td>\n",
       "      <td>2.75</td>\n",
       "      <td>24.76</td>\n",
       "    </tr>\n",
       "    <tr>\n",
       "      <th>11</th>\n",
       "      <td>12</td>\n",
       "      <td>Mario Kart DS</td>\n",
       "      <td>DS</td>\n",
       "      <td>2005.0</td>\n",
       "      <td>Racing</td>\n",
       "      <td>Nintendo</td>\n",
       "      <td>9.81</td>\n",
       "      <td>7.57</td>\n",
       "      <td>4.13</td>\n",
       "      <td>1.92</td>\n",
       "      <td>23.42</td>\n",
       "    </tr>\n",
       "    <tr>\n",
       "      <th>12</th>\n",
       "      <td>13</td>\n",
       "      <td>Pokemon Gold/Pokemon Silver</td>\n",
       "      <td>GB</td>\n",
       "      <td>1999.0</td>\n",
       "      <td>Role-Playing</td>\n",
       "      <td>Nintendo</td>\n",
       "      <td>9.00</td>\n",
       "      <td>6.18</td>\n",
       "      <td>7.20</td>\n",
       "      <td>0.71</td>\n",
       "      <td>23.10</td>\n",
       "    </tr>\n",
       "    <tr>\n",
       "      <th>13</th>\n",
       "      <td>14</td>\n",
       "      <td>Wii Fit</td>\n",
       "      <td>Wii</td>\n",
       "      <td>2007.0</td>\n",
       "      <td>Sports</td>\n",
       "      <td>Nintendo</td>\n",
       "      <td>8.94</td>\n",
       "      <td>8.03</td>\n",
       "      <td>3.60</td>\n",
       "      <td>2.15</td>\n",
       "      <td>22.72</td>\n",
       "    </tr>\n",
       "    <tr>\n",
       "      <th>14</th>\n",
       "      <td>15</td>\n",
       "      <td>Wii Fit Plus</td>\n",
       "      <td>Wii</td>\n",
       "      <td>2009.0</td>\n",
       "      <td>Sports</td>\n",
       "      <td>Nintendo</td>\n",
       "      <td>9.09</td>\n",
       "      <td>8.59</td>\n",
       "      <td>2.53</td>\n",
       "      <td>1.79</td>\n",
       "      <td>22.00</td>\n",
       "    </tr>\n",
       "  </tbody>\n",
       "</table>\n",
       "</div>"
      ],
      "text/plain": [
       "    Rank                         Name Platform    Year         Genre  \\\n",
       "0      1                   Wii Sports      Wii  2006.0        Sports   \n",
       "1      2            Super Mario Bros.      NES  1985.0      Platform   \n",
       "2      3               Mario Kart Wii      Wii  2008.0        Racing   \n",
       "3      4            Wii Sports Resort      Wii  2009.0        Sports   \n",
       "4      5     Pokemon Red/Pokemon Blue       GB  1996.0  Role-Playing   \n",
       "5      6                       Tetris       GB  1989.0        Puzzle   \n",
       "6      7        New Super Mario Bros.       DS  2006.0      Platform   \n",
       "7      8                     Wii Play      Wii  2006.0          Misc   \n",
       "8      9    New Super Mario Bros. Wii      Wii  2009.0      Platform   \n",
       "9     10                    Duck Hunt      NES  1984.0       Shooter   \n",
       "10    11                   Nintendogs       DS  2005.0    Simulation   \n",
       "11    12                Mario Kart DS       DS  2005.0        Racing   \n",
       "12    13  Pokemon Gold/Pokemon Silver       GB  1999.0  Role-Playing   \n",
       "13    14                      Wii Fit      Wii  2007.0        Sports   \n",
       "14    15                 Wii Fit Plus      Wii  2009.0        Sports   \n",
       "\n",
       "   Publisher  NA_Sales  EU_Sales  JP_Sales  Other_Sales  Global_Sales  \n",
       "0   Nintendo     41.49     29.02      3.77         8.46         82.74  \n",
       "1   Nintendo     29.08      3.58      6.81         0.77         40.24  \n",
       "2   Nintendo     15.85     12.88      3.79         3.31         35.82  \n",
       "3   Nintendo     15.75     11.01      3.28         2.96         33.00  \n",
       "4   Nintendo     11.27      8.89     10.22         1.00         31.37  \n",
       "5   Nintendo     23.20      2.26      4.22         0.58         30.26  \n",
       "6   Nintendo     11.38      9.23      6.50         2.90         30.01  \n",
       "7   Nintendo     14.03      9.20      2.93         2.85         29.02  \n",
       "8   Nintendo     14.59      7.06      4.70         2.26         28.62  \n",
       "9   Nintendo     26.93      0.63      0.28         0.47         28.31  \n",
       "10  Nintendo      9.07     11.00      1.93         2.75         24.76  \n",
       "11  Nintendo      9.81      7.57      4.13         1.92         23.42  \n",
       "12  Nintendo      9.00      6.18      7.20         0.71         23.10  \n",
       "13  Nintendo      8.94      8.03      3.60         2.15         22.72  \n",
       "14  Nintendo      9.09      8.59      2.53         1.79         22.00  "
      ]
     },
     "execution_count": 1,
     "metadata": {},
     "output_type": "execute_result"
    }
   ],
   "source": [
    "import pandas as pd\n",
    "import matplotlib.pyplot as plt\n",
    "import seaborn as sns\n",
    "import numpy as np\n",
    "from sklearn import cluster\n",
    "from apyori import apriori\n",
    "data = pd.read_csv(r\"C:\\Users\\sammy\\Desktop\\vgsales.csv\")\n",
    "print('Number of instances = %d' % (data.shape[0]))\n",
    "print('Number of attributes = %d' % (data.shape[1]))\n",
    "data.head(15)"
   ]
  },
  {
   "cell_type": "markdown",
   "id": "6c58a9bb",
   "metadata": {},
   "source": [
    "# Data Preprocessing\n",
    "## Remove Class attributes"
   ]
  },
  {
   "cell_type": "code",
   "execution_count": 2,
   "id": "bfa77e55",
   "metadata": {},
   "outputs": [
    {
     "data": {
      "text/html": [
       "<div>\n",
       "<style scoped>\n",
       "    .dataframe tbody tr th:only-of-type {\n",
       "        vertical-align: middle;\n",
       "    }\n",
       "\n",
       "    .dataframe tbody tr th {\n",
       "        vertical-align: top;\n",
       "    }\n",
       "\n",
       "    .dataframe thead th {\n",
       "        text-align: right;\n",
       "    }\n",
       "</style>\n",
       "<table border=\"1\" class=\"dataframe\">\n",
       "  <thead>\n",
       "    <tr style=\"text-align: right;\">\n",
       "      <th></th>\n",
       "      <th>Platform</th>\n",
       "      <th>Year</th>\n",
       "      <th>Genre</th>\n",
       "      <th>Publisher</th>\n",
       "      <th>NA_Sales</th>\n",
       "      <th>EU_Sales</th>\n",
       "      <th>JP_Sales</th>\n",
       "      <th>Other_Sales</th>\n",
       "      <th>Global_Sales</th>\n",
       "    </tr>\n",
       "  </thead>\n",
       "  <tbody>\n",
       "    <tr>\n",
       "      <th>0</th>\n",
       "      <td>Wii</td>\n",
       "      <td>2006.0</td>\n",
       "      <td>Sports</td>\n",
       "      <td>Nintendo</td>\n",
       "      <td>41.49</td>\n",
       "      <td>29.02</td>\n",
       "      <td>3.77</td>\n",
       "      <td>8.46</td>\n",
       "      <td>82.74</td>\n",
       "    </tr>\n",
       "    <tr>\n",
       "      <th>1</th>\n",
       "      <td>NES</td>\n",
       "      <td>1985.0</td>\n",
       "      <td>Platform</td>\n",
       "      <td>Nintendo</td>\n",
       "      <td>29.08</td>\n",
       "      <td>3.58</td>\n",
       "      <td>6.81</td>\n",
       "      <td>0.77</td>\n",
       "      <td>40.24</td>\n",
       "    </tr>\n",
       "    <tr>\n",
       "      <th>2</th>\n",
       "      <td>Wii</td>\n",
       "      <td>2008.0</td>\n",
       "      <td>Racing</td>\n",
       "      <td>Nintendo</td>\n",
       "      <td>15.85</td>\n",
       "      <td>12.88</td>\n",
       "      <td>3.79</td>\n",
       "      <td>3.31</td>\n",
       "      <td>35.82</td>\n",
       "    </tr>\n",
       "    <tr>\n",
       "      <th>3</th>\n",
       "      <td>Wii</td>\n",
       "      <td>2009.0</td>\n",
       "      <td>Sports</td>\n",
       "      <td>Nintendo</td>\n",
       "      <td>15.75</td>\n",
       "      <td>11.01</td>\n",
       "      <td>3.28</td>\n",
       "      <td>2.96</td>\n",
       "      <td>33.00</td>\n",
       "    </tr>\n",
       "    <tr>\n",
       "      <th>4</th>\n",
       "      <td>GB</td>\n",
       "      <td>1996.0</td>\n",
       "      <td>Role-Playing</td>\n",
       "      <td>Nintendo</td>\n",
       "      <td>11.27</td>\n",
       "      <td>8.89</td>\n",
       "      <td>10.22</td>\n",
       "      <td>1.00</td>\n",
       "      <td>31.37</td>\n",
       "    </tr>\n",
       "  </tbody>\n",
       "</table>\n",
       "</div>"
      ],
      "text/plain": [
       "  Platform    Year         Genre Publisher  NA_Sales  EU_Sales  JP_Sales  \\\n",
       "0      Wii  2006.0        Sports  Nintendo     41.49     29.02      3.77   \n",
       "1      NES  1985.0      Platform  Nintendo     29.08      3.58      6.81   \n",
       "2      Wii  2008.0        Racing  Nintendo     15.85     12.88      3.79   \n",
       "3      Wii  2009.0        Sports  Nintendo     15.75     11.01      3.28   \n",
       "4       GB  1996.0  Role-Playing  Nintendo     11.27      8.89     10.22   \n",
       "\n",
       "   Other_Sales  Global_Sales  \n",
       "0         8.46         82.74  \n",
       "1         0.77         40.24  \n",
       "2         3.31         35.82  \n",
       "3         2.96         33.00  \n",
       "4         1.00         31.37  "
      ]
     },
     "execution_count": 2,
     "metadata": {},
     "output_type": "execute_result"
    }
   ],
   "source": [
    "data = data.drop(['Rank'], axis=1) \n",
    "data = data.drop(['Name'], axis=1) \n",
    "data.head()"
   ]
  },
  {
   "cell_type": "markdown",
   "id": "8cebb9d9",
   "metadata": {},
   "source": [
    "## Fill in Missing Data"
   ]
  },
  {
   "cell_type": "markdown",
   "id": "d4b58484",
   "metadata": {},
   "source": [
    "#### Here I check for missing data in each attribute."
   ]
  },
  {
   "cell_type": "code",
   "execution_count": 3,
   "id": "bac347fe",
   "metadata": {},
   "outputs": [
    {
     "data": {
      "text/plain": [
       "Platform          0\n",
       "Year            271\n",
       "Genre             0\n",
       "Publisher        58\n",
       "NA_Sales          0\n",
       "EU_Sales          0\n",
       "JP_Sales          0\n",
       "Other_Sales       0\n",
       "Global_Sales      0\n",
       "dtype: int64"
      ]
     },
     "execution_count": 3,
     "metadata": {},
     "output_type": "execute_result"
    }
   ],
   "source": [
    "data.isnull().sum() "
   ]
  },
  {
   "cell_type": "markdown",
   "id": "61af177c",
   "metadata": {},
   "source": [
    "#### Here I fill in the missing values in Year with the mean value for that attribute based on its other values. "
   ]
  },
  {
   "cell_type": "code",
   "execution_count": 4,
   "id": "6a20c97d",
   "metadata": {},
   "outputs": [
    {
     "data": {
      "text/plain": [
       "Platform         0\n",
       "Year             0\n",
       "Genre            0\n",
       "Publisher       58\n",
       "NA_Sales         0\n",
       "EU_Sales         0\n",
       "JP_Sales         0\n",
       "Other_Sales      0\n",
       "Global_Sales     0\n",
       "dtype: int64"
      ]
     },
     "execution_count": 4,
     "metadata": {},
     "output_type": "execute_result"
    }
   ],
   "source": [
    "data['Year'] = data['Year'].fillna(data['Year'].mean())\n",
    "data.isnull().sum()  "
   ]
  },
  {
   "cell_type": "markdown",
   "id": "84b12716",
   "metadata": {},
   "source": [
    "#### Here I fill in the missing data for Publisher with a blank value."
   ]
  },
  {
   "cell_type": "code",
   "execution_count": 5,
   "id": "eecb89a7",
   "metadata": {},
   "outputs": [
    {
     "data": {
      "text/plain": [
       "Platform        0\n",
       "Year            0\n",
       "Genre           0\n",
       "Publisher       0\n",
       "NA_Sales        0\n",
       "EU_Sales        0\n",
       "JP_Sales        0\n",
       "Other_Sales     0\n",
       "Global_Sales    0\n",
       "dtype: int64"
      ]
     },
     "execution_count": 5,
     "metadata": {},
     "output_type": "execute_result"
    }
   ],
   "source": [
    "data.Publisher = data.Publisher.fillna('')\n",
    "data.isnull().sum()"
   ]
  },
  {
   "cell_type": "markdown",
   "id": "92689fa4",
   "metadata": {},
   "source": [
    "## Remove Duplicate Data"
   ]
  },
  {
   "cell_type": "code",
   "execution_count": 6,
   "id": "a5db0864",
   "metadata": {},
   "outputs": [
    {
     "name": "stdout",
     "output_type": "stream",
     "text": [
      "Number of duplicate rows = 258\n"
     ]
    }
   ],
   "source": [
    "dups = data.duplicated()\n",
    "print('Number of duplicate rows = %d' % (dups.sum()))"
   ]
  },
  {
   "cell_type": "code",
   "execution_count": 7,
   "id": "c99b2bdf",
   "metadata": {},
   "outputs": [
    {
     "name": "stdout",
     "output_type": "stream",
     "text": [
      "Number of rows before discarding duplicates = 16598\n",
      "Number of rows after discarding duplicates = 16340\n"
     ]
    }
   ],
   "source": [
    "print('Number of rows before discarding duplicates = %d' % (data.shape[0]))\n",
    "data2 = data.drop_duplicates()\n",
    "print('Number of rows after discarding duplicates = %d' % (data2.shape[0]))"
   ]
  },
  {
   "cell_type": "markdown",
   "id": "82639e7a",
   "metadata": {},
   "source": [
    "# Data Exploration"
   ]
  },
  {
   "cell_type": "markdown",
   "id": "a51ea400",
   "metadata": {},
   "source": [
    "## Summary Statistics"
   ]
  },
  {
   "cell_type": "code",
   "execution_count": 8,
   "id": "0bd75050",
   "metadata": {},
   "outputs": [
    {
     "name": "stdout",
     "output_type": "stream",
     "text": [
      "Year:\n",
      "\t Mean = 2006.41\n",
      "\t Standard deviation = 5.78\n",
      "\t Minimum = 1980.00\n",
      "\t Maximum = 2020.00\n",
      "NA_Sales:\n",
      "\t Mean = 0.26\n",
      "\t Standard deviation = 0.82\n",
      "\t Minimum = 0.00\n",
      "\t Maximum = 41.49\n",
      "EU_Sales:\n",
      "\t Mean = 0.15\n",
      "\t Standard deviation = 0.51\n",
      "\t Minimum = 0.00\n",
      "\t Maximum = 29.02\n",
      "JP_Sales:\n",
      "\t Mean = 0.08\n",
      "\t Standard deviation = 0.31\n",
      "\t Minimum = 0.00\n",
      "\t Maximum = 10.22\n",
      "Other_Sales:\n",
      "\t Mean = 0.05\n",
      "\t Standard deviation = 0.19\n",
      "\t Minimum = 0.00\n",
      "\t Maximum = 10.57\n",
      "Global_Sales:\n",
      "\t Mean = 0.54\n",
      "\t Standard deviation = 1.56\n",
      "\t Minimum = 0.01\n",
      "\t Maximum = 82.74\n"
     ]
    }
   ],
   "source": [
    "from pandas.api.types import is_numeric_dtype\n",
    "\n",
    "for col in data.columns:\n",
    "    if is_numeric_dtype(data[col]):\n",
    "        print('%s:' % (col))\n",
    "        print('\\t Mean = %.2f' % data[col].mean())\n",
    "        print('\\t Standard deviation = %.2f' % data[col].std())\n",
    "        print('\\t Minimum = %.2f' % data[col].min())\n",
    "        print('\\t Maximum = %.2f' % data[col].max())"
   ]
  },
  {
   "cell_type": "markdown",
   "id": "7c94e2f8",
   "metadata": {},
   "source": [
    "### This dataset records videogames sold over the past 40 years from 1980-2020 and these statistics show that North America had the highest videogame sales followed by Europe. Japan came third in videogame sales with other regions coming in fourth."
   ]
  },
  {
   "cell_type": "code",
   "execution_count": 9,
   "id": "99b994e7",
   "metadata": {},
   "outputs": [
    {
     "data": {
      "text/plain": [
       "DS      2163\n",
       "PS2     2161\n",
       "PS3     1329\n",
       "Wii     1325\n",
       "X360    1265\n",
       "PSP     1213\n",
       "PS      1196\n",
       "PC       960\n",
       "XB       824\n",
       "GBA      822\n",
       "GC       556\n",
       "3DS      509\n",
       "PSV      413\n",
       "PS4      336\n",
       "N64      319\n",
       "SNES     239\n",
       "XOne     213\n",
       "SAT      173\n",
       "WiiU     143\n",
       "2600     133\n",
       "NES       98\n",
       "GB        98\n",
       "DC        52\n",
       "GEN       27\n",
       "NG        12\n",
       "SCD        6\n",
       "WS         6\n",
       "3DO        3\n",
       "TG16       2\n",
       "GG         1\n",
       "PCFX       1\n",
       "Name: Platform, dtype: int64"
      ]
     },
     "execution_count": 9,
     "metadata": {},
     "output_type": "execute_result"
    }
   ],
   "source": [
    "data['Platform'].value_counts()"
   ]
  },
  {
   "cell_type": "markdown",
   "id": "64bebe1c",
   "metadata": {},
   "source": [
    "### The Nintendo DS had the most videogames sold followed closely by the PS2."
   ]
  },
  {
   "cell_type": "code",
   "execution_count": 10,
   "id": "060be79f",
   "metadata": {},
   "outputs": [
    {
     "data": {
      "text/plain": [
       "Action          3316\n",
       "Sports          2346\n",
       "Misc            1739\n",
       "Role-Playing    1488\n",
       "Shooter         1310\n",
       "Adventure       1286\n",
       "Racing          1249\n",
       "Platform         886\n",
       "Simulation       867\n",
       "Fighting         848\n",
       "Strategy         681\n",
       "Puzzle           582\n",
       "Name: Genre, dtype: int64"
      ]
     },
     "execution_count": 10,
     "metadata": {},
     "output_type": "execute_result"
    }
   ],
   "source": [
    "data['Genre'].value_counts()"
   ]
  },
  {
   "cell_type": "markdown",
   "id": "acaadda0",
   "metadata": {},
   "source": [
    "### Action was the most popular genre of videogame by a landslide. The sports genre came in second."
   ]
  },
  {
   "cell_type": "code",
   "execution_count": 11,
   "id": "dfb131b6",
   "metadata": {},
   "outputs": [
    {
     "data": {
      "text/plain": [
       "Electronic Arts                           1351\n",
       "Activision                                 975\n",
       "Namco Bandai Games                         932\n",
       "Ubisoft                                    921\n",
       "Konami Digital Entertainment               832\n",
       "THQ                                        715\n",
       "Nintendo                                   703\n",
       "Sony Computer Entertainment                683\n",
       "Sega                                       639\n",
       "Take-Two Interactive                       413\n",
       "Capcom                                     381\n",
       "Atari                                      363\n",
       "Tecmo Koei                                 338\n",
       "Square Enix                                233\n",
       "Warner Bros. Interactive Entertainment     232\n",
       "Disney Interactive Studios                 218\n",
       "Unknown                                    203\n",
       "Eidos Interactive                          198\n",
       "Midway Games                               198\n",
       "505 Games                                  192\n",
       "Microsoft Game Studios                     189\n",
       "Acclaim Entertainment                      184\n",
       "D3Publisher                                184\n",
       "Vivendi Games                              164\n",
       "Codemasters                                152\n",
       "Idea Factory                               129\n",
       "Deep Silver                                122\n",
       "Nippon Ichi Software                       105\n",
       "Zoo Digital Publishing                     104\n",
       "Majesco Entertainment                       92\n",
       "Name: Publisher, dtype: int64"
      ]
     },
     "execution_count": 11,
     "metadata": {},
     "output_type": "execute_result"
    }
   ],
   "source": [
    "data['Publisher'].value_counts().head(30)"
   ]
  },
  {
   "cell_type": "markdown",
   "id": "55e5d962",
   "metadata": {},
   "source": [
    "### The publisher that developed the most videogames is Electronic Arts followed by Activision."
   ]
  },
  {
   "cell_type": "code",
   "execution_count": 12,
   "id": "5e394a39",
   "metadata": {},
   "outputs": [],
   "source": [
    "data2=data.drop(['Year', 'Global_Sales', 'Publisher', 'Genre', 'Platform'], axis=1)"
   ]
  },
  {
   "cell_type": "code",
   "execution_count": 13,
   "id": "ba9c5ae2",
   "metadata": {},
   "outputs": [
    {
     "name": "stdout",
     "output_type": "stream",
     "text": [
      "Covariance:\n"
     ]
    },
    {
     "data": {
      "text/html": [
       "<div>\n",
       "<style scoped>\n",
       "    .dataframe tbody tr th:only-of-type {\n",
       "        vertical-align: middle;\n",
       "    }\n",
       "\n",
       "    .dataframe tbody tr th {\n",
       "        vertical-align: top;\n",
       "    }\n",
       "\n",
       "    .dataframe thead th {\n",
       "        text-align: right;\n",
       "    }\n",
       "</style>\n",
       "<table border=\"1\" class=\"dataframe\">\n",
       "  <thead>\n",
       "    <tr style=\"text-align: right;\">\n",
       "      <th></th>\n",
       "      <th>NA_Sales</th>\n",
       "      <th>EU_Sales</th>\n",
       "      <th>JP_Sales</th>\n",
       "      <th>Other_Sales</th>\n",
       "    </tr>\n",
       "  </thead>\n",
       "  <tbody>\n",
       "    <tr>\n",
       "      <th>NA_Sales</th>\n",
       "      <td>0.666971</td>\n",
       "      <td>0.316850</td>\n",
       "      <td>0.113613</td>\n",
       "      <td>0.097760</td>\n",
       "    </tr>\n",
       "    <tr>\n",
       "      <th>EU_Sales</th>\n",
       "      <td>0.316850</td>\n",
       "      <td>0.255380</td>\n",
       "      <td>0.068082</td>\n",
       "      <td>0.069227</td>\n",
       "    </tr>\n",
       "    <tr>\n",
       "      <th>JP_Sales</th>\n",
       "      <td>0.113613</td>\n",
       "      <td>0.068082</td>\n",
       "      <td>0.095661</td>\n",
       "      <td>0.016926</td>\n",
       "    </tr>\n",
       "    <tr>\n",
       "      <th>Other_Sales</th>\n",
       "      <td>0.097760</td>\n",
       "      <td>0.069227</td>\n",
       "      <td>0.016926</td>\n",
       "      <td>0.035566</td>\n",
       "    </tr>\n",
       "  </tbody>\n",
       "</table>\n",
       "</div>"
      ],
      "text/plain": [
       "             NA_Sales  EU_Sales  JP_Sales  Other_Sales\n",
       "NA_Sales     0.666971  0.316850  0.113613     0.097760\n",
       "EU_Sales     0.316850  0.255380  0.068082     0.069227\n",
       "JP_Sales     0.113613  0.068082  0.095661     0.016926\n",
       "Other_Sales  0.097760  0.069227  0.016926     0.035566"
      ]
     },
     "execution_count": 13,
     "metadata": {},
     "output_type": "execute_result"
    }
   ],
   "source": [
    "print('Covariance:')\n",
    "data2.cov()"
   ]
  },
  {
   "cell_type": "code",
   "execution_count": 14,
   "id": "2c6d5d5d",
   "metadata": {},
   "outputs": [
    {
     "name": "stdout",
     "output_type": "stream",
     "text": [
      "Correlation:\n"
     ]
    },
    {
     "data": {
      "text/html": [
       "<div>\n",
       "<style scoped>\n",
       "    .dataframe tbody tr th:only-of-type {\n",
       "        vertical-align: middle;\n",
       "    }\n",
       "\n",
       "    .dataframe tbody tr th {\n",
       "        vertical-align: top;\n",
       "    }\n",
       "\n",
       "    .dataframe thead th {\n",
       "        text-align: right;\n",
       "    }\n",
       "</style>\n",
       "<table border=\"1\" class=\"dataframe\">\n",
       "  <thead>\n",
       "    <tr style=\"text-align: right;\">\n",
       "      <th></th>\n",
       "      <th>NA_Sales</th>\n",
       "      <th>EU_Sales</th>\n",
       "      <th>JP_Sales</th>\n",
       "      <th>Other_Sales</th>\n",
       "    </tr>\n",
       "  </thead>\n",
       "  <tbody>\n",
       "    <tr>\n",
       "      <th>NA_Sales</th>\n",
       "      <td>1.000000</td>\n",
       "      <td>0.767727</td>\n",
       "      <td>0.449787</td>\n",
       "      <td>0.634737</td>\n",
       "    </tr>\n",
       "    <tr>\n",
       "      <th>EU_Sales</th>\n",
       "      <td>0.767727</td>\n",
       "      <td>1.000000</td>\n",
       "      <td>0.435584</td>\n",
       "      <td>0.726385</td>\n",
       "    </tr>\n",
       "    <tr>\n",
       "      <th>JP_Sales</th>\n",
       "      <td>0.449787</td>\n",
       "      <td>0.435584</td>\n",
       "      <td>1.000000</td>\n",
       "      <td>0.290186</td>\n",
       "    </tr>\n",
       "    <tr>\n",
       "      <th>Other_Sales</th>\n",
       "      <td>0.634737</td>\n",
       "      <td>0.726385</td>\n",
       "      <td>0.290186</td>\n",
       "      <td>1.000000</td>\n",
       "    </tr>\n",
       "  </tbody>\n",
       "</table>\n",
       "</div>"
      ],
      "text/plain": [
       "             NA_Sales  EU_Sales  JP_Sales  Other_Sales\n",
       "NA_Sales     1.000000  0.767727  0.449787     0.634737\n",
       "EU_Sales     0.767727  1.000000  0.435584     0.726385\n",
       "JP_Sales     0.449787  0.435584  1.000000     0.290186\n",
       "Other_Sales  0.634737  0.726385  0.290186     1.000000"
      ]
     },
     "execution_count": 14,
     "metadata": {},
     "output_type": "execute_result"
    }
   ],
   "source": [
    "print('Correlation:')\n",
    "data2.corr()"
   ]
  },
  {
   "cell_type": "markdown",
   "id": "4c493ecf",
   "metadata": {},
   "source": [
    "### NA and Europe videogame sales have the highest correlation while Japan and other regions have the lowest correlation."
   ]
  },
  {
   "cell_type": "markdown",
   "id": "2dd77ed2",
   "metadata": {},
   "source": [
    "## Data Visualization"
   ]
  },
  {
   "cell_type": "markdown",
   "id": "842693a1",
   "metadata": {},
   "source": [
    "### Which decade was the best for videogame sales?"
   ]
  },
  {
   "cell_type": "code",
   "execution_count": 15,
   "id": "2f52d85d",
   "metadata": {},
   "outputs": [
    {
     "data": {
      "image/png": "[encoded data removed]",
      "text/plain": [
       "<Figure size 1440x720 with 1 Axes>"
      ]
     },
     "metadata": {},
     "output_type": "display_data"
    }
   ],
   "source": [
    "%matplotlib inline\n",
    "plt.figure(figsize = (20, 10))\n",
    "plt.title('Videogame Sales by Decade',fontsize = 20, fontweight = 'bold')\n",
    "ax=data['Year'].hist(bins=4)\n",
    "ax.grid(False)\n",
    "\n",
    "for patch in ax.patches:\n",
    " x, height, width = patch.get_x(), patch.get_height(), patch.get_width()\n",
    " ax.text(x + width/2, height, f'{height}',\n",
    "         ha='center', size=13,bbox={'facecolor': 'lavender', \n",
    "                                    'boxstyle': 'circle', \n",
    "                                    'edgecolor': 'midnightblue'})\n",
    "    \n",
    "plt.xticks(fontsize=20)\n",
    "plt.yticks(color='w')\n",
    "plt.tick_params(left = False)\n",
    "ax.spines['top'].set_visible(False)\n",
    "ax.spines['right'].set_visible(False)\n",
    "ax.spines['left'].set_visible(False)"
   ]
  },
  {
   "cell_type": "markdown",
   "id": "1fb346a3",
   "metadata": {},
   "source": [
    "### According to this histogram, the 2000s were the best decade for videogame sales."
   ]
  },
  {
   "cell_type": "markdown",
   "id": "d8110036",
   "metadata": {},
   "source": [
    "### Which region has the highest videogame sales?"
   ]
  },
  {
   "cell_type": "code",
   "execution_count": 16,
   "id": "4c67ef17",
   "metadata": {},
   "outputs": [
    {
     "data": {
      "text/plain": [
       "(array([1, 2, 3, 4]),\n",
       " [Text(1, 0, 'NA_Sales'),\n",
       "  Text(2, 0, 'EU_Sales'),\n",
       "  Text(3, 0, 'JP_Sales'),\n",
       "  Text(4, 0, 'Other_Sales')])"
      ]
     },
     "execution_count": 16,
     "metadata": {},
     "output_type": "execute_result"
    },
    {
     "data": {
      "image/png": "[encoded data removed]",
      "text/plain": [
       "<Figure size 720x720 with 1 Axes>"
      ]
     },
     "metadata": {
      "needs_background": "light"
     },
     "output_type": "display_data"
    }
   ],
   "source": [
    "plt.figure(figsize = (10, 10))\n",
    "plt.title('Videogame Sales by Region',fontsize = 20, fontweight = 'bold')\n",
    "ax=data2.boxplot()\n",
    "ax.grid(False)\n",
    "plt.xticks(fontsize=20)"
   ]
  },
  {
   "cell_type": "markdown",
   "id": "eab6e380",
   "metadata": {},
   "source": [
    "### According to this boxplot, it appears that North America has the highest videogame sales."
   ]
  },
  {
   "cell_type": "markdown",
   "id": "53691eea",
   "metadata": {},
   "source": [
    "### Which regions have the highest and lowest correlation with each other?"
   ]
  },
  {
   "cell_type": "code",
   "execution_count": 17,
   "id": "1b5b747a",
   "metadata": {},
   "outputs": [
    {
     "data": {
      "image/png": "[encoded data removed]",
      "text/plain": [
       "<Figure size 864x864 with 6 Axes>"
      ]
     },
     "metadata": {
      "needs_background": "light"
     },
     "output_type": "display_data"
    }
   ],
   "source": [
    "import matplotlib.pyplot as plt\n",
    "\n",
    "fig, axes = plt.subplots(3, 2, figsize=(12,12))\n",
    "index = 0\n",
    "for i in range(3):\n",
    "    for j in range(i+1,4):\n",
    "        ax1 = int(index/2)\n",
    "        ax2 = index % 2\n",
    "        axes[ax1][ax2].scatter(data2[data2.columns[i]], data[data2.columns[j]], color='red')\n",
    "        axes[ax1][ax2].set_xlabel(data2.columns[i])\n",
    "        axes[ax1][ax2].set_ylabel(data2.columns[j])\n",
    "        index = index + 1"
   ]
  },
  {
   "cell_type": "markdown",
   "id": "a7735469",
   "metadata": {},
   "source": [
    "### According to these plots, it appears that North American videogame sales and European videogame sales have high correlation with each other, meaning that if a videogame in one of the regions does well, it is likely for it to do well in the other region. This also shows that Japan has the lowest correlation amongst the other regions, meaning that if a videogame does well in Japan, that does not necessarily mean it will do well in other regions. "
   ]
  },
  {
   "cell_type": "code",
   "execution_count": 18,
   "id": "2f231643",
   "metadata": {},
   "outputs": [],
   "source": [
    "data2=data.drop(['Year', 'Global_Sales', 'Publisher', 'Platform'], axis=1)"
   ]
  },
  {
   "cell_type": "markdown",
   "id": "441eed2b",
   "metadata": {},
   "source": [
    "# Data Mining Techniques"
   ]
  },
  {
   "cell_type": "markdown",
   "id": "0b291d9a",
   "metadata": {},
   "source": [
    "# Decision Tree Classifier"
   ]
  },
  {
   "cell_type": "markdown",
   "id": "fdf4575f",
   "metadata": {},
   "source": [
    "### Which attribute is the best predictor for the data set?"
   ]
  },
  {
   "cell_type": "markdown",
   "id": "b49ab6f2",
   "metadata": {},
   "source": [
    "#### Here I drop all numerical attributes in order for the Decision Tree Classifier to work"
   ]
  },
  {
   "cell_type": "code",
   "execution_count": 19,
   "id": "49f8471d",
   "metadata": {},
   "outputs": [],
   "source": [
    "data3 = data.drop(['NA_Sales','EU_Sales','JP_Sales','Other_Sales', 'Year', 'Global_Sales'], axis=1) "
   ]
  },
  {
   "cell_type": "markdown",
   "id": "ca77193e",
   "metadata": {},
   "source": [
    "#### Since the decision tree only accepts binary attributes, I convert these three attributes from nominal to binary. "
   ]
  },
  {
   "cell_type": "code",
   "execution_count": 20,
   "id": "5728b74f",
   "metadata": {},
   "outputs": [],
   "source": [
    "dataEncoded = pd.get_dummies(data3, columns=['Genre', 'Platform', 'Publisher'])"
   ]
  },
  {
   "cell_type": "code",
   "execution_count": 21,
   "id": "419d9173",
   "metadata": {},
   "outputs": [
    {
     "name": "stdout",
     "output_type": "stream",
     "text": [
      "Genre_Action 0: (13282, 622)\n",
      "Genre_Action 1: (3316, 622)\n"
     ]
    }
   ],
   "source": [
    "Genre_Action_count_0, Genre_Action_count_1 = dataEncoded['Genre_Action'].value_counts()\n",
    "\n",
    "Genre_Action_0 = dataEncoded[dataEncoded['Genre_Action'] == 0]\n",
    "Genre_Action_1 = dataEncoded[dataEncoded['Genre_Action'] == 1]\n",
    "print('Genre_Action 0:', Genre_Action_0.shape)\n",
    "print('Genre_Action 1:', Genre_Action_1.shape)"
   ]
  },
  {
   "cell_type": "markdown",
   "id": "855d4a68",
   "metadata": {},
   "source": [
    "#### Since there is a class imbalance here, I use random under-sampling."
   ]
  },
  {
   "cell_type": "code",
   "execution_count": 22,
   "id": "e4dcd0d7",
   "metadata": {},
   "outputs": [
    {
     "name": "stdout",
     "output_type": "stream",
     "text": [
      "Genre_Action 0: (3316, 622)\n",
      "Genre_Action 1: (3316, 622)\n"
     ]
    }
   ],
   "source": [
    "Genre_Action_0_under = Genre_Action_0.sample(Genre_Action_count_1)\n",
    "\n",
    "Genre_Action_test_under = pd.concat([Genre_Action_0_under, Genre_Action_1], axis=0)\n",
    "\n",
    "print('Genre_Action 0:', Genre_Action_0_under.shape)\n",
    "print('Genre_Action 1:', Genre_Action_1.shape)\n",
    "dataEncoded=Genre_Action_test_under"
   ]
  },
  {
   "cell_type": "markdown",
   "id": "505979dd",
   "metadata": {},
   "source": [
    "#### Here I create a training and testing dataset for the decision tree classifier. The training dataset will be used on the test dataset to test the accuracy of the model. "
   ]
  },
  {
   "cell_type": "code",
   "execution_count": 23,
   "id": "c98adce7",
   "metadata": {},
   "outputs": [],
   "source": [
    "from sklearn.model_selection import train_test_split\n",
    "x = dataEncoded.drop(['Genre_Action'], axis=1)\n",
    "y = dataEncoded['Genre_Action']\n",
    "x_train, x_test, y_train, y_test = train_test_split(x, y, train_size=0.7, test_size=0.3)"
   ]
  },
  {
   "cell_type": "code",
   "execution_count": 24,
   "id": "9344131d",
   "metadata": {},
   "outputs": [
    {
     "name": "stdout",
     "output_type": "stream",
     "text": [
      "(4642, 621)\n",
      "(1990, 621)\n",
      "(4642,)\n",
      "(1990,)\n"
     ]
    }
   ],
   "source": [
    "print(x_train.shape)\n",
    "print(x_test.shape)\n",
    "print(y_train.shape)\n",
    "print(y_test.shape)"
   ]
  },
  {
   "cell_type": "code",
   "execution_count": 25,
   "id": "1173c7dd",
   "metadata": {
    "scrolled": false
   },
   "outputs": [],
   "source": [
    "from sklearn import tree\n",
    "myTree = tree.DecisionTreeClassifier(criterion='entropy',max_depth=5) \n",
    "myTree = myTree.fit(x_train, y_train)"
   ]
  },
  {
   "cell_type": "markdown",
   "id": "1aae3c8b",
   "metadata": {},
   "source": [
    "### Accuracy for the Genre Attribute"
   ]
  },
  {
   "cell_type": "code",
   "execution_count": 26,
   "id": "239854ec",
   "metadata": {},
   "outputs": [
    {
     "name": "stdout",
     "output_type": "stream",
     "text": [
      "Accuracy on test data is 0.80\n"
     ]
    }
   ],
   "source": [
    "predictions = myTree.predict(x_test)\n",
    "\n",
    "from sklearn.metrics import accuracy_score\n",
    "\n",
    "print('Accuracy on test data is %.2f' % (accuracy_score(y_test, predictions)))"
   ]
  },
  {
   "cell_type": "markdown",
   "id": "62572af5",
   "metadata": {},
   "source": [
    "#### Here I repeat the process I used on the Genre attribute for the Platform attribute using the DS value. "
   ]
  },
  {
   "cell_type": "code",
   "execution_count": 27,
   "id": "5f6c4510",
   "metadata": {},
   "outputs": [],
   "source": [
    "dataEncoded = pd.get_dummies(data3, columns=['Platform', 'Genre', 'Publisher'])"
   ]
  },
  {
   "cell_type": "code",
   "execution_count": 28,
   "id": "f08348c9",
   "metadata": {},
   "outputs": [
    {
     "name": "stdout",
     "output_type": "stream",
     "text": [
      "Platform_DS 0: (14435, 622)\n",
      "Platform_DS 1: (2163, 622)\n"
     ]
    }
   ],
   "source": [
    "Platform_DS_count_0, Platform_DS_count_1 = dataEncoded['Platform_DS'].value_counts()\n",
    "\n",
    "Platform_DS_0 = dataEncoded[dataEncoded['Platform_DS'] == 0]\n",
    "Platform_DS_1 = dataEncoded[dataEncoded['Platform_DS'] == 1]\n",
    "print('Platform_DS 0:', Platform_DS_0.shape)\n",
    "print('Platform_DS 1:', Platform_DS_1.shape)"
   ]
  },
  {
   "cell_type": "code",
   "execution_count": 29,
   "id": "c1ca2de9",
   "metadata": {},
   "outputs": [
    {
     "name": "stdout",
     "output_type": "stream",
     "text": [
      "Platform_DS 0: (2163, 622)\n",
      "Platform_DS 1: (2163, 622)\n"
     ]
    }
   ],
   "source": [
    "Platform_DS_0_under = Platform_DS_0.sample(Platform_DS_count_1)\n",
    "\n",
    "Platform_DS_test_under = pd.concat([Platform_DS_0_under, Platform_DS_1], axis=0)\n",
    "\n",
    "print('Platform_DS 0:', Platform_DS_0_under.shape)\n",
    "print('Platform_DS 1:', Platform_DS_1.shape)\n",
    "dataEncoded=Platform_DS_test_under"
   ]
  },
  {
   "cell_type": "code",
   "execution_count": 30,
   "id": "39eaa1f2",
   "metadata": {},
   "outputs": [],
   "source": [
    "from sklearn.model_selection import train_test_split\n",
    "x = dataEncoded.drop(['Platform_DS'], axis=1)\n",
    "y = dataEncoded['Platform_DS']\n",
    "x_train, x_test, y_train, y_test = train_test_split(x, y, train_size=0.7, test_size=0.3)"
   ]
  },
  {
   "cell_type": "code",
   "execution_count": 31,
   "id": "1ea1dd11",
   "metadata": {},
   "outputs": [
    {
     "name": "stdout",
     "output_type": "stream",
     "text": [
      "(3028, 621)\n",
      "(1298, 621)\n",
      "(3028,)\n",
      "(1298,)\n"
     ]
    }
   ],
   "source": [
    "print(x_train.shape)\n",
    "print(x_test.shape)\n",
    "print(y_train.shape)\n",
    "print(y_test.shape)"
   ]
  },
  {
   "cell_type": "code",
   "execution_count": 32,
   "id": "a12b1ae3",
   "metadata": {},
   "outputs": [],
   "source": [
    "from sklearn import tree\n",
    "myTree = tree.DecisionTreeClassifier(criterion='entropy',max_depth=5) \n",
    "myTree = myTree.fit(x_train, y_train)"
   ]
  },
  {
   "cell_type": "markdown",
   "id": "aaefaf88",
   "metadata": {},
   "source": [
    "### Accuracy for the Platform Attribute"
   ]
  },
  {
   "cell_type": "code",
   "execution_count": 33,
   "id": "aaafd74b",
   "metadata": {},
   "outputs": [
    {
     "name": "stdout",
     "output_type": "stream",
     "text": [
      "Accuracy on test data is 0.77\n"
     ]
    }
   ],
   "source": [
    "predictions = myTree.predict(x_test)\n",
    "\n",
    "from sklearn.metrics import accuracy_score\n",
    "\n",
    "print('Accuracy on test data is %.2f' % (accuracy_score(y_test, predictions)))"
   ]
  },
  {
   "cell_type": "markdown",
   "id": "9cf1d5fe",
   "metadata": {},
   "source": [
    "#### I repeat the process one final time for the Publisher attribute using the Electronic Arts value for Publisher. "
   ]
  },
  {
   "cell_type": "code",
   "execution_count": 34,
   "id": "d6b1c142",
   "metadata": {},
   "outputs": [],
   "source": [
    "dataEncoded = pd.get_dummies(data3, columns=['Publisher', 'Genre', 'Platform'])"
   ]
  },
  {
   "cell_type": "code",
   "execution_count": 35,
   "id": "359eb591",
   "metadata": {},
   "outputs": [
    {
     "name": "stdout",
     "output_type": "stream",
     "text": [
      "Publisher_Electronic_Arts 0: (15247, 622)\n",
      "Publisher_Electronic_Arts 1: (1351, 622)\n"
     ]
    }
   ],
   "source": [
    "Publisher_Electronic_Arts_count_0, Publisher_Electronic_Arts_count_1 = dataEncoded['Publisher_Electronic Arts'].value_counts()\n",
    "\n",
    "Publisher_Electronic_Arts_0 = dataEncoded[dataEncoded['Publisher_Electronic Arts'] == 0]\n",
    "Publisher_Electronic_Arts_1 = dataEncoded[dataEncoded['Publisher_Electronic Arts'] == 1]\n",
    "print('Publisher_Electronic_Arts 0:', Publisher_Electronic_Arts_0.shape)\n",
    "print('Publisher_Electronic_Arts 1:', Publisher_Electronic_Arts_1.shape)"
   ]
  },
  {
   "cell_type": "code",
   "execution_count": 36,
   "id": "da875291",
   "metadata": {},
   "outputs": [
    {
     "name": "stdout",
     "output_type": "stream",
     "text": [
      "Publisher_Electronic_Arts 0: (1351, 622)\n",
      "Publisher_Electronic_Arts 1: (1351, 622)\n"
     ]
    }
   ],
   "source": [
    "Publisher_Electronic_Arts_0_under = Publisher_Electronic_Arts_0.sample(Publisher_Electronic_Arts_count_1)\n",
    "\n",
    "Publisher_Electronic_Arts_test_under = pd.concat([Publisher_Electronic_Arts_0_under, Publisher_Electronic_Arts_1], axis=0)\n",
    "\n",
    "print('Publisher_Electronic_Arts 0:', Publisher_Electronic_Arts_0_under.shape)\n",
    "print('Publisher_Electronic_Arts 1:', Publisher_Electronic_Arts_1.shape)\n",
    "dataEncoded=Publisher_Electronic_Arts_test_under"
   ]
  },
  {
   "cell_type": "code",
   "execution_count": 37,
   "id": "17a41328",
   "metadata": {},
   "outputs": [],
   "source": [
    "from sklearn.model_selection import train_test_split\n",
    "x = dataEncoded.drop(['Publisher_Electronic Arts'], axis=1)\n",
    "y = dataEncoded['Publisher_Electronic Arts']\n",
    "x_train, x_test, y_train, y_test = train_test_split(x, y, train_size=0.7, test_size=0.3)"
   ]
  },
  {
   "cell_type": "code",
   "execution_count": 38,
   "id": "29374545",
   "metadata": {},
   "outputs": [
    {
     "name": "stdout",
     "output_type": "stream",
     "text": [
      "(1891, 621)\n",
      "(811, 621)\n",
      "(1891,)\n",
      "(811,)\n"
     ]
    }
   ],
   "source": [
    "print(x_train.shape)\n",
    "print(x_test.shape)\n",
    "print(y_train.shape)\n",
    "print(y_test.shape)"
   ]
  },
  {
   "cell_type": "code",
   "execution_count": 39,
   "id": "788642ec",
   "metadata": {},
   "outputs": [],
   "source": [
    "from sklearn import tree\n",
    "myTree = tree.DecisionTreeClassifier(criterion='entropy',max_depth=5) \n",
    "myTree = myTree.fit(x_train, y_train)"
   ]
  },
  {
   "cell_type": "markdown",
   "id": "dd141274",
   "metadata": {},
   "source": [
    "### Accuracy for the Publisher attribute"
   ]
  },
  {
   "cell_type": "code",
   "execution_count": 40,
   "id": "07f6ee5b",
   "metadata": {},
   "outputs": [
    {
     "name": "stdout",
     "output_type": "stream",
     "text": [
      "Accuracy on test data is 0.71\n"
     ]
    }
   ],
   "source": [
    "predictions = myTree.predict(x_test)\n",
    "\n",
    "from sklearn.metrics import accuracy_score\n",
    "\n",
    "print('Accuracy on test data is %.2f' % (accuracy_score(y_test, predictions)))"
   ]
  },
  {
   "cell_type": "markdown",
   "id": "9887be10",
   "metadata": {},
   "source": [
    "### The Genre value Action had the highest accuracy on the test data out of the three attributes. Thus, Genre is the best predictor for the test data. "
   ]
  },
  {
   "cell_type": "markdown",
   "id": "d037e021",
   "metadata": {},
   "source": [
    "# K-means Clustering\n",
    "## What cluster does each platform, genre, and publisher belong to?"
   ]
  },
  {
   "cell_type": "markdown",
   "id": "639880ab",
   "metadata": {},
   "source": [
    "#### Here I make sure to drop all nominal attributes, leaving only numerical attributes in order for K-means clustering to work."
   ]
  },
  {
   "cell_type": "code",
   "execution_count": 41,
   "id": "941c5f02",
   "metadata": {},
   "outputs": [],
   "source": [
    "data2=data2.drop(['Genre'], axis=1)"
   ]
  },
  {
   "cell_type": "code",
   "execution_count": 42,
   "id": "3af81dc6",
   "metadata": {},
   "outputs": [
    {
     "data": {
      "text/html": [
       "<div>\n",
       "<style scoped>\n",
       "    .dataframe tbody tr th:only-of-type {\n",
       "        vertical-align: middle;\n",
       "    }\n",
       "\n",
       "    .dataframe tbody tr th {\n",
       "        vertical-align: top;\n",
       "    }\n",
       "\n",
       "    .dataframe thead th {\n",
       "        text-align: right;\n",
       "    }\n",
       "</style>\n",
       "<table border=\"1\" class=\"dataframe\">\n",
       "  <thead>\n",
       "    <tr style=\"text-align: right;\">\n",
       "      <th></th>\n",
       "      <th>NA_Sales</th>\n",
       "      <th>EU_Sales</th>\n",
       "      <th>JP_Sales</th>\n",
       "      <th>Other_Sales</th>\n",
       "    </tr>\n",
       "  </thead>\n",
       "  <tbody>\n",
       "    <tr>\n",
       "      <th>0</th>\n",
       "      <td>41.49</td>\n",
       "      <td>29.02</td>\n",
       "      <td>3.77</td>\n",
       "      <td>8.46</td>\n",
       "    </tr>\n",
       "    <tr>\n",
       "      <th>1</th>\n",
       "      <td>29.08</td>\n",
       "      <td>3.58</td>\n",
       "      <td>6.81</td>\n",
       "      <td>0.77</td>\n",
       "    </tr>\n",
       "    <tr>\n",
       "      <th>2</th>\n",
       "      <td>15.85</td>\n",
       "      <td>12.88</td>\n",
       "      <td>3.79</td>\n",
       "      <td>3.31</td>\n",
       "    </tr>\n",
       "    <tr>\n",
       "      <th>3</th>\n",
       "      <td>15.75</td>\n",
       "      <td>11.01</td>\n",
       "      <td>3.28</td>\n",
       "      <td>2.96</td>\n",
       "    </tr>\n",
       "    <tr>\n",
       "      <th>4</th>\n",
       "      <td>11.27</td>\n",
       "      <td>8.89</td>\n",
       "      <td>10.22</td>\n",
       "      <td>1.00</td>\n",
       "    </tr>\n",
       "    <tr>\n",
       "      <th>...</th>\n",
       "      <td>...</td>\n",
       "      <td>...</td>\n",
       "      <td>...</td>\n",
       "      <td>...</td>\n",
       "    </tr>\n",
       "    <tr>\n",
       "      <th>16593</th>\n",
       "      <td>0.01</td>\n",
       "      <td>0.00</td>\n",
       "      <td>0.00</td>\n",
       "      <td>0.00</td>\n",
       "    </tr>\n",
       "    <tr>\n",
       "      <th>16594</th>\n",
       "      <td>0.01</td>\n",
       "      <td>0.00</td>\n",
       "      <td>0.00</td>\n",
       "      <td>0.00</td>\n",
       "    </tr>\n",
       "    <tr>\n",
       "      <th>16595</th>\n",
       "      <td>0.00</td>\n",
       "      <td>0.00</td>\n",
       "      <td>0.00</td>\n",
       "      <td>0.00</td>\n",
       "    </tr>\n",
       "    <tr>\n",
       "      <th>16596</th>\n",
       "      <td>0.00</td>\n",
       "      <td>0.01</td>\n",
       "      <td>0.00</td>\n",
       "      <td>0.00</td>\n",
       "    </tr>\n",
       "    <tr>\n",
       "      <th>16597</th>\n",
       "      <td>0.01</td>\n",
       "      <td>0.00</td>\n",
       "      <td>0.00</td>\n",
       "      <td>0.00</td>\n",
       "    </tr>\n",
       "  </tbody>\n",
       "</table>\n",
       "<p>16598 rows × 4 columns</p>\n",
       "</div>"
      ],
      "text/plain": [
       "       NA_Sales  EU_Sales  JP_Sales  Other_Sales\n",
       "0         41.49     29.02      3.77         8.46\n",
       "1         29.08      3.58      6.81         0.77\n",
       "2         15.85     12.88      3.79         3.31\n",
       "3         15.75     11.01      3.28         2.96\n",
       "4         11.27      8.89     10.22         1.00\n",
       "...         ...       ...       ...          ...\n",
       "16593      0.01      0.00      0.00         0.00\n",
       "16594      0.01      0.00      0.00         0.00\n",
       "16595      0.00      0.00      0.00         0.00\n",
       "16596      0.00      0.01      0.00         0.00\n",
       "16597      0.01      0.00      0.00         0.00\n",
       "\n",
       "[16598 rows x 4 columns]"
      ]
     },
     "execution_count": 42,
     "metadata": {},
     "output_type": "execute_result"
    }
   ],
   "source": [
    "data2"
   ]
  },
  {
   "cell_type": "markdown",
   "id": "c1f9670f",
   "metadata": {},
   "source": [
    "#### Here I find the centroid for each cluster and assign all the values to the cluster with the centroid closest to them. "
   ]
  },
  {
   "cell_type": "code",
   "execution_count": 43,
   "id": "679fca0b",
   "metadata": {},
   "outputs": [
    {
     "data": {
      "text/plain": [
       "array([1, 1, 1, ..., 2, 2, 2])"
      ]
     },
     "execution_count": 43,
     "metadata": {},
     "output_type": "execute_result"
    }
   ],
   "source": [
    "from sklearn import cluster\n",
    "k_means = cluster.KMeans(n_clusters=3, max_iter=50, random_state=1)\n",
    "k_means.fit(data2)\n",
    "labels = k_means.labels_\n",
    "labels"
   ]
  },
  {
   "cell_type": "code",
   "execution_count": 44,
   "id": "f06e656a",
   "metadata": {},
   "outputs": [
    {
     "data": {
      "text/plain": [
       "array([[ 2.32199021,  1.40350734,  0.45680261,  0.42737357],\n",
       "       [14.0312    ,  7.138     ,  3.1936    ,  2.332     ],\n",
       "       [ 0.16408459,  0.08742669,  0.05834336,  0.02991667]])"
      ]
     },
     "execution_count": 44,
     "metadata": {},
     "output_type": "execute_result"
    }
   ],
   "source": [
    "k_means.cluster_centers_"
   ]
  },
  {
   "cell_type": "code",
   "execution_count": 45,
   "id": "434b6495",
   "metadata": {},
   "outputs": [
    {
     "data": {
      "text/html": [
       "<div>\n",
       "<style scoped>\n",
       "    .dataframe tbody tr th:only-of-type {\n",
       "        vertical-align: middle;\n",
       "    }\n",
       "\n",
       "    .dataframe tbody tr th {\n",
       "        vertical-align: top;\n",
       "    }\n",
       "\n",
       "    .dataframe thead th {\n",
       "        text-align: right;\n",
       "    }\n",
       "</style>\n",
       "<table border=\"1\" class=\"dataframe\">\n",
       "  <thead>\n",
       "    <tr style=\"text-align: right;\">\n",
       "      <th></th>\n",
       "      <th>NA_Sales</th>\n",
       "      <th>EU_Sales</th>\n",
       "      <th>JP_Sales</th>\n",
       "      <th>Other_Sales</th>\n",
       "      <th>Cluster</th>\n",
       "    </tr>\n",
       "  </thead>\n",
       "  <tbody>\n",
       "    <tr>\n",
       "      <th>15305</th>\n",
       "      <td>0.00</td>\n",
       "      <td>0.02</td>\n",
       "      <td>0.00</td>\n",
       "      <td>0.00</td>\n",
       "      <td>2</td>\n",
       "    </tr>\n",
       "    <tr>\n",
       "      <th>1904</th>\n",
       "      <td>0.28</td>\n",
       "      <td>0.59</td>\n",
       "      <td>0.00</td>\n",
       "      <td>0.22</td>\n",
       "      <td>2</td>\n",
       "    </tr>\n",
       "    <tr>\n",
       "      <th>7614</th>\n",
       "      <td>0.16</td>\n",
       "      <td>0.04</td>\n",
       "      <td>0.00</td>\n",
       "      <td>0.00</td>\n",
       "      <td>2</td>\n",
       "    </tr>\n",
       "    <tr>\n",
       "      <th>1709</th>\n",
       "      <td>0.52</td>\n",
       "      <td>0.24</td>\n",
       "      <td>0.38</td>\n",
       "      <td>0.04</td>\n",
       "      <td>2</td>\n",
       "    </tr>\n",
       "    <tr>\n",
       "      <th>2578</th>\n",
       "      <td>0.43</td>\n",
       "      <td>0.29</td>\n",
       "      <td>0.00</td>\n",
       "      <td>0.08</td>\n",
       "      <td>2</td>\n",
       "    </tr>\n",
       "    <tr>\n",
       "      <th>14861</th>\n",
       "      <td>0.02</td>\n",
       "      <td>0.01</td>\n",
       "      <td>0.00</td>\n",
       "      <td>0.00</td>\n",
       "      <td>2</td>\n",
       "    </tr>\n",
       "    <tr>\n",
       "      <th>14483</th>\n",
       "      <td>0.03</td>\n",
       "      <td>0.00</td>\n",
       "      <td>0.00</td>\n",
       "      <td>0.00</td>\n",
       "      <td>2</td>\n",
       "    </tr>\n",
       "    <tr>\n",
       "      <th>12048</th>\n",
       "      <td>0.00</td>\n",
       "      <td>0.00</td>\n",
       "      <td>0.07</td>\n",
       "      <td>0.00</td>\n",
       "      <td>2</td>\n",
       "    </tr>\n",
       "    <tr>\n",
       "      <th>3662</th>\n",
       "      <td>0.22</td>\n",
       "      <td>0.08</td>\n",
       "      <td>0.24</td>\n",
       "      <td>0.01</td>\n",
       "      <td>2</td>\n",
       "    </tr>\n",
       "    <tr>\n",
       "      <th>6983</th>\n",
       "      <td>0.17</td>\n",
       "      <td>0.03</td>\n",
       "      <td>0.00</td>\n",
       "      <td>0.03</td>\n",
       "      <td>2</td>\n",
       "    </tr>\n",
       "    <tr>\n",
       "      <th>305</th>\n",
       "      <td>1.97</td>\n",
       "      <td>0.76</td>\n",
       "      <td>1.07</td>\n",
       "      <td>0.11</td>\n",
       "      <td>0</td>\n",
       "    </tr>\n",
       "    <tr>\n",
       "      <th>7016</th>\n",
       "      <td>0.17</td>\n",
       "      <td>0.05</td>\n",
       "      <td>0.00</td>\n",
       "      <td>0.01</td>\n",
       "      <td>2</td>\n",
       "    </tr>\n",
       "    <tr>\n",
       "      <th>14615</th>\n",
       "      <td>0.00</td>\n",
       "      <td>0.00</td>\n",
       "      <td>0.03</td>\n",
       "      <td>0.00</td>\n",
       "      <td>2</td>\n",
       "    </tr>\n",
       "    <tr>\n",
       "      <th>3405</th>\n",
       "      <td>0.21</td>\n",
       "      <td>0.17</td>\n",
       "      <td>0.16</td>\n",
       "      <td>0.06</td>\n",
       "      <td>2</td>\n",
       "    </tr>\n",
       "    <tr>\n",
       "      <th>4710</th>\n",
       "      <td>0.27</td>\n",
       "      <td>0.08</td>\n",
       "      <td>0.00</td>\n",
       "      <td>0.06</td>\n",
       "      <td>2</td>\n",
       "    </tr>\n",
       "    <tr>\n",
       "      <th>11646</th>\n",
       "      <td>0.07</td>\n",
       "      <td>0.00</td>\n",
       "      <td>0.00</td>\n",
       "      <td>0.00</td>\n",
       "      <td>2</td>\n",
       "    </tr>\n",
       "    <tr>\n",
       "      <th>3241</th>\n",
       "      <td>0.30</td>\n",
       "      <td>0.26</td>\n",
       "      <td>0.00</td>\n",
       "      <td>0.06</td>\n",
       "      <td>2</td>\n",
       "    </tr>\n",
       "    <tr>\n",
       "      <th>1456</th>\n",
       "      <td>0.77</td>\n",
       "      <td>0.07</td>\n",
       "      <td>0.43</td>\n",
       "      <td>0.08</td>\n",
       "      <td>2</td>\n",
       "    </tr>\n",
       "    <tr>\n",
       "      <th>10328</th>\n",
       "      <td>0.10</td>\n",
       "      <td>0.00</td>\n",
       "      <td>0.00</td>\n",
       "      <td>0.01</td>\n",
       "      <td>2</td>\n",
       "    </tr>\n",
       "    <tr>\n",
       "      <th>6909</th>\n",
       "      <td>0.15</td>\n",
       "      <td>0.06</td>\n",
       "      <td>0.01</td>\n",
       "      <td>0.02</td>\n",
       "      <td>2</td>\n",
       "    </tr>\n",
       "  </tbody>\n",
       "</table>\n",
       "</div>"
      ],
      "text/plain": [
       "       NA_Sales  EU_Sales  JP_Sales  Other_Sales  Cluster\n",
       "15305      0.00      0.02      0.00         0.00        2\n",
       "1904       0.28      0.59      0.00         0.22        2\n",
       "7614       0.16      0.04      0.00         0.00        2\n",
       "1709       0.52      0.24      0.38         0.04        2\n",
       "2578       0.43      0.29      0.00         0.08        2\n",
       "14861      0.02      0.01      0.00         0.00        2\n",
       "14483      0.03      0.00      0.00         0.00        2\n",
       "12048      0.00      0.00      0.07         0.00        2\n",
       "3662       0.22      0.08      0.24         0.01        2\n",
       "6983       0.17      0.03      0.00         0.03        2\n",
       "305        1.97      0.76      1.07         0.11        0\n",
       "7016       0.17      0.05      0.00         0.01        2\n",
       "14615      0.00      0.00      0.03         0.00        2\n",
       "3405       0.21      0.17      0.16         0.06        2\n",
       "4710       0.27      0.08      0.00         0.06        2\n",
       "11646      0.07      0.00      0.00         0.00        2\n",
       "3241       0.30      0.26      0.00         0.06        2\n",
       "1456       0.77      0.07      0.43         0.08        2\n",
       "10328      0.10      0.00      0.00         0.01        2\n",
       "6909       0.15      0.06      0.01         0.02        2"
      ]
     },
     "execution_count": 45,
     "metadata": {},
     "output_type": "execute_result"
    }
   ],
   "source": [
    "clusterdataWithLabels = pd.concat((data2, pd.DataFrame(labels)), axis=1)\n",
    "clusterdataWithLabels.set_axis(['NA_Sales','EU_Sales','JP_Sales','Other_Sales','Cluster'], axis=1, inplace = True)\n",
    "clusterdataWithLabels.sample(20)"
   ]
  },
  {
   "cell_type": "code",
   "execution_count": 46,
   "id": "da274872",
   "metadata": {},
   "outputs": [],
   "source": [
    "genre = data['Genre']\n",
    "publisher = data['Publisher']\n",
    "platform = data['Platform']"
   ]
  },
  {
   "cell_type": "markdown",
   "id": "e457b170",
   "metadata": {},
   "source": [
    "#### Here I add back the nominal attributes to the data with the clusters so that I can perform analysis on them."
   ]
  },
  {
   "cell_type": "code",
   "execution_count": 47,
   "id": "4c1a2e52",
   "metadata": {},
   "outputs": [],
   "source": [
    "clusterdataWithLabels['Genre'] = genre\n",
    "clusterdataWithLabels['Publisher'] = publisher\n",
    "clusterdataWithLabels['Platform'] = platform"
   ]
  },
  {
   "cell_type": "code",
   "execution_count": 48,
   "id": "6d07c5fb",
   "metadata": {},
   "outputs": [
    {
     "data": {
      "text/html": [
       "<div>\n",
       "<style scoped>\n",
       "    .dataframe tbody tr th:only-of-type {\n",
       "        vertical-align: middle;\n",
       "    }\n",
       "\n",
       "    .dataframe tbody tr th {\n",
       "        vertical-align: top;\n",
       "    }\n",
       "\n",
       "    .dataframe thead th {\n",
       "        text-align: right;\n",
       "    }\n",
       "</style>\n",
       "<table border=\"1\" class=\"dataframe\">\n",
       "  <thead>\n",
       "    <tr style=\"text-align: right;\">\n",
       "      <th></th>\n",
       "      <th>NA_Sales</th>\n",
       "      <th>EU_Sales</th>\n",
       "      <th>JP_Sales</th>\n",
       "      <th>Other_Sales</th>\n",
       "      <th>Cluster</th>\n",
       "      <th>Genre</th>\n",
       "      <th>Publisher</th>\n",
       "      <th>Platform</th>\n",
       "    </tr>\n",
       "  </thead>\n",
       "  <tbody>\n",
       "    <tr>\n",
       "      <th>0</th>\n",
       "      <td>41.49</td>\n",
       "      <td>29.02</td>\n",
       "      <td>3.77</td>\n",
       "      <td>8.46</td>\n",
       "      <td>1</td>\n",
       "      <td>Sports</td>\n",
       "      <td>Nintendo</td>\n",
       "      <td>Wii</td>\n",
       "    </tr>\n",
       "    <tr>\n",
       "      <th>1</th>\n",
       "      <td>29.08</td>\n",
       "      <td>3.58</td>\n",
       "      <td>6.81</td>\n",
       "      <td>0.77</td>\n",
       "      <td>1</td>\n",
       "      <td>Platform</td>\n",
       "      <td>Nintendo</td>\n",
       "      <td>NES</td>\n",
       "    </tr>\n",
       "    <tr>\n",
       "      <th>2</th>\n",
       "      <td>15.85</td>\n",
       "      <td>12.88</td>\n",
       "      <td>3.79</td>\n",
       "      <td>3.31</td>\n",
       "      <td>1</td>\n",
       "      <td>Racing</td>\n",
       "      <td>Nintendo</td>\n",
       "      <td>Wii</td>\n",
       "    </tr>\n",
       "    <tr>\n",
       "      <th>3</th>\n",
       "      <td>15.75</td>\n",
       "      <td>11.01</td>\n",
       "      <td>3.28</td>\n",
       "      <td>2.96</td>\n",
       "      <td>1</td>\n",
       "      <td>Sports</td>\n",
       "      <td>Nintendo</td>\n",
       "      <td>Wii</td>\n",
       "    </tr>\n",
       "    <tr>\n",
       "      <th>4</th>\n",
       "      <td>11.27</td>\n",
       "      <td>8.89</td>\n",
       "      <td>10.22</td>\n",
       "      <td>1.00</td>\n",
       "      <td>1</td>\n",
       "      <td>Role-Playing</td>\n",
       "      <td>Nintendo</td>\n",
       "      <td>GB</td>\n",
       "    </tr>\n",
       "    <tr>\n",
       "      <th>...</th>\n",
       "      <td>...</td>\n",
       "      <td>...</td>\n",
       "      <td>...</td>\n",
       "      <td>...</td>\n",
       "      <td>...</td>\n",
       "      <td>...</td>\n",
       "      <td>...</td>\n",
       "      <td>...</td>\n",
       "    </tr>\n",
       "    <tr>\n",
       "      <th>16593</th>\n",
       "      <td>0.01</td>\n",
       "      <td>0.00</td>\n",
       "      <td>0.00</td>\n",
       "      <td>0.00</td>\n",
       "      <td>2</td>\n",
       "      <td>Platform</td>\n",
       "      <td>Kemco</td>\n",
       "      <td>GBA</td>\n",
       "    </tr>\n",
       "    <tr>\n",
       "      <th>16594</th>\n",
       "      <td>0.01</td>\n",
       "      <td>0.00</td>\n",
       "      <td>0.00</td>\n",
       "      <td>0.00</td>\n",
       "      <td>2</td>\n",
       "      <td>Shooter</td>\n",
       "      <td>Infogrames</td>\n",
       "      <td>GC</td>\n",
       "    </tr>\n",
       "    <tr>\n",
       "      <th>16595</th>\n",
       "      <td>0.00</td>\n",
       "      <td>0.00</td>\n",
       "      <td>0.00</td>\n",
       "      <td>0.00</td>\n",
       "      <td>2</td>\n",
       "      <td>Racing</td>\n",
       "      <td>Activision</td>\n",
       "      <td>PS2</td>\n",
       "    </tr>\n",
       "    <tr>\n",
       "      <th>16596</th>\n",
       "      <td>0.00</td>\n",
       "      <td>0.01</td>\n",
       "      <td>0.00</td>\n",
       "      <td>0.00</td>\n",
       "      <td>2</td>\n",
       "      <td>Puzzle</td>\n",
       "      <td>7G//AMES</td>\n",
       "      <td>DS</td>\n",
       "    </tr>\n",
       "    <tr>\n",
       "      <th>16597</th>\n",
       "      <td>0.01</td>\n",
       "      <td>0.00</td>\n",
       "      <td>0.00</td>\n",
       "      <td>0.00</td>\n",
       "      <td>2</td>\n",
       "      <td>Platform</td>\n",
       "      <td>Wanadoo</td>\n",
       "      <td>GBA</td>\n",
       "    </tr>\n",
       "  </tbody>\n",
       "</table>\n",
       "<p>16598 rows × 8 columns</p>\n",
       "</div>"
      ],
      "text/plain": [
       "       NA_Sales  EU_Sales  JP_Sales  Other_Sales  Cluster         Genre  \\\n",
       "0         41.49     29.02      3.77         8.46        1        Sports   \n",
       "1         29.08      3.58      6.81         0.77        1      Platform   \n",
       "2         15.85     12.88      3.79         3.31        1        Racing   \n",
       "3         15.75     11.01      3.28         2.96        1        Sports   \n",
       "4         11.27      8.89     10.22         1.00        1  Role-Playing   \n",
       "...         ...       ...       ...          ...      ...           ...   \n",
       "16593      0.01      0.00      0.00         0.00        2      Platform   \n",
       "16594      0.01      0.00      0.00         0.00        2       Shooter   \n",
       "16595      0.00      0.00      0.00         0.00        2        Racing   \n",
       "16596      0.00      0.01      0.00         0.00        2        Puzzle   \n",
       "16597      0.01      0.00      0.00         0.00        2      Platform   \n",
       "\n",
       "        Publisher Platform  \n",
       "0        Nintendo      Wii  \n",
       "1        Nintendo      NES  \n",
       "2        Nintendo      Wii  \n",
       "3        Nintendo      Wii  \n",
       "4        Nintendo       GB  \n",
       "...           ...      ...  \n",
       "16593       Kemco      GBA  \n",
       "16594  Infogrames       GC  \n",
       "16595  Activision      PS2  \n",
       "16596    7G//AMES       DS  \n",
       "16597     Wanadoo      GBA  \n",
       "\n",
       "[16598 rows x 8 columns]"
      ]
     },
     "execution_count": 48,
     "metadata": {},
     "output_type": "execute_result"
    }
   ],
   "source": [
    "clusterdataWithLabels"
   ]
  },
  {
   "cell_type": "markdown",
   "id": "d78a7830",
   "metadata": {},
   "source": [
    "#### Here I compare each region's videogame sales to the clusters."
   ]
  },
  {
   "cell_type": "code",
   "execution_count": 49,
   "id": "7356e29e",
   "metadata": {},
   "outputs": [
    {
     "data": {
      "text/plain": [
       "<AxesSubplot:title={'center':'Other_Sales'}, xlabel='Cluster', ylabel='Other_Sales'>"
      ]
     },
     "execution_count": 49,
     "metadata": {},
     "output_type": "execute_result"
    },
    {
     "data": {
      "image/png": "[encoded data removed]",
      "text/plain": [
       "<Figure size 360x360 with 1 Axes>"
      ]
     },
     "metadata": {
      "needs_background": "light"
     },
     "output_type": "display_data"
    },
    {
     "data": {
      "image/png": "[encoded data removed]",
      "text/plain": [
       "<Figure size 360x360 with 1 Axes>"
      ]
     },
     "metadata": {
      "needs_background": "light"
     },
     "output_type": "display_data"
    },
    {
     "data": {
      "image/png": "[encoded data removed]",
      "text/plain": [
       "<Figure size 360x360 with 1 Axes>"
      ]
     },
     "metadata": {
      "needs_background": "light"
     },
     "output_type": "display_data"
    },
    {
     "data": {
      "image/png": "[encoded data removed]",
      "text/plain": [
       "<Figure size 360x360 with 1 Axes>"
      ]
     },
     "metadata": {
      "needs_background": "light"
     },
     "output_type": "display_data"
    }
   ],
   "source": [
    "plt.figure(figsize = (5, 5))\n",
    "plt.title('NA_Sales',fontsize = 20, fontweight = 'bold')\n",
    "\n",
    "sns.stripplot(x=\"Cluster\",\n",
    "              y=\"NA_Sales\",\n",
    "              data=clusterdataWithLabels)\n",
    "\n",
    "\n",
    "plt.figure(figsize = (5, 5))\n",
    "\n",
    "plt.title('EU_Sales',fontsize = 20, fontweight = 'bold')\n",
    "sns.stripplot(x=\"Cluster\",\n",
    "              y=\"EU_Sales\",\n",
    "              data=clusterdataWithLabels)\n",
    "\n",
    "\n",
    "plt.figure(figsize = (5, 5))\n",
    "\n",
    "plt.title('JP_Sales',fontsize = 20, fontweight = 'bold')\n",
    "sns.stripplot(x=\"Cluster\",\n",
    "              y=\"JP_Sales\",\n",
    "              data=clusterdataWithLabels)\n",
    "\n",
    "\n",
    "plt.figure(figsize = (5, 5))\n",
    "\n",
    "plt.title('Other_Sales',fontsize = 20, fontweight = 'bold')\n",
    "sns.stripplot(x=\"Cluster\",\n",
    "              y=\"Other_Sales\",\n",
    "              data=clusterdataWithLabels)"
   ]
  },
  {
   "cell_type": "code",
   "execution_count": 50,
   "id": "6cb204cf",
   "metadata": {},
   "outputs": [
    {
     "data": {
      "text/plain": [
       "2    15960\n",
       "0      613\n",
       "1       25\n",
       "Name: Cluster, dtype: int64"
      ]
     },
     "execution_count": 50,
     "metadata": {},
     "output_type": "execute_result"
    }
   ],
   "source": [
    "clusterdataWithLabels['Cluster'].value_counts()"
   ]
  },
  {
   "cell_type": "markdown",
   "id": "8a026f0a",
   "metadata": {},
   "source": [
    "### These clusters can be classified into three different types. Class 2 is moderate sucess, Class 0 is high success, and Class 1 is critical success."
   ]
  },
  {
   "cell_type": "markdown",
   "id": "36c05fc4",
   "metadata": {},
   "source": [
    "### These scatterplots show me that only North America follows the cluster trend very closely while Europe does to a lesser degree and Japan least of all. "
   ]
  },
  {
   "cell_type": "markdown",
   "id": "c37531a6",
   "metadata": {},
   "source": [
    "#### Here I compare each Genre to the clusters."
   ]
  },
  {
   "cell_type": "code",
   "execution_count": 51,
   "id": "f9e1789c",
   "metadata": {},
   "outputs": [
    {
     "data": {
      "text/plain": [
       "Action          3316\n",
       "Sports          2346\n",
       "Misc            1739\n",
       "Role-Playing    1488\n",
       "Shooter         1310\n",
       "Adventure       1286\n",
       "Racing          1249\n",
       "Platform         886\n",
       "Simulation       867\n",
       "Fighting         848\n",
       "Strategy         681\n",
       "Puzzle           582\n",
       "Name: Genre, dtype: int64"
      ]
     },
     "execution_count": 51,
     "metadata": {},
     "output_type": "execute_result"
    },
    {
     "data": {
      "image/png": "[encoded data removed]",
      "text/plain": [
       "<Figure size 720x360 with 1 Axes>"
      ]
     },
     "metadata": {
      "needs_background": "light"
     },
     "output_type": "display_data"
    }
   ],
   "source": [
    "plt.figure(figsize = (10, 5))\n",
    "plt.title('Genre',fontsize = 20, fontweight = 'bold')\n",
    "\n",
    "sns.stripplot(x=\"Cluster\",\n",
    "              y=\"Genre\",\n",
    "              data=clusterdataWithLabels)\n",
    "data['Genre'].value_counts()"
   ]
  },
  {
   "cell_type": "markdown",
   "id": "ca42c150",
   "metadata": {},
   "source": [
    "### This plot shows me that there is a good amount of representation for different Genres in cluster 1. This tells me that the type of Genre of the videogame has little to do with how well it will sell. The only three genres that did not break into cluster 1 was fighting, adventure, and strategy. "
   ]
  },
  {
   "cell_type": "markdown",
   "id": "47cee9cf",
   "metadata": {},
   "source": [
    "#### Here I compare each platform to the clusters."
   ]
  },
  {
   "cell_type": "code",
   "execution_count": 52,
   "id": "6780a443",
   "metadata": {},
   "outputs": [
    {
     "data": {
      "text/plain": [
       "DS      2163\n",
       "PS2     2161\n",
       "PS3     1329\n",
       "Wii     1325\n",
       "X360    1265\n",
       "PSP     1213\n",
       "PS      1196\n",
       "PC       960\n",
       "XB       824\n",
       "GBA      822\n",
       "GC       556\n",
       "3DS      509\n",
       "PSV      413\n",
       "PS4      336\n",
       "N64      319\n",
       "SNES     239\n",
       "XOne     213\n",
       "SAT      173\n",
       "WiiU     143\n",
       "2600     133\n",
       "NES       98\n",
       "GB        98\n",
       "Name: Platform, dtype: int64"
      ]
     },
     "execution_count": 52,
     "metadata": {},
     "output_type": "execute_result"
    },
    {
     "data": {
      "image/png": "[encoded data removed]",
      "text/plain": [
       "<Figure size 720x720 with 1 Axes>"
      ]
     },
     "metadata": {
      "needs_background": "light"
     },
     "output_type": "display_data"
    }
   ],
   "source": [
    "plt.figure(figsize = (10, 10))\n",
    "plt.title('Platform',fontsize = 20, fontweight = 'bold')\n",
    "\n",
    "sns.stripplot(x=\"Cluster\",\n",
    "              y=\"Platform\",\n",
    "              data=clusterdataWithLabels)\n",
    "data['Platform'].value_counts().head(22)"
   ]
  },
  {
   "cell_type": "markdown",
   "id": "e3befee8",
   "metadata": {},
   "source": [
    "### This plot tells me that it is not common for platforms to have a critically high selling videogame. "
   ]
  },
  {
   "cell_type": "markdown",
   "id": "2d7561b4",
   "metadata": {},
   "source": [
    "#### Here I compare publishers to clusters"
   ]
  },
  {
   "cell_type": "code",
   "execution_count": 53,
   "id": "39e2462c",
   "metadata": {},
   "outputs": [
    {
     "data": {
      "text/plain": [
       "Electronic Arts                 1351\n",
       "Activision                       975\n",
       "Namco Bandai Games               932\n",
       "Ubisoft                          921\n",
       "Konami Digital Entertainment     832\n",
       "THQ                              715\n",
       "Nintendo                         703\n",
       "Name: Publisher, dtype: int64"
      ]
     },
     "execution_count": 53,
     "metadata": {},
     "output_type": "execute_result"
    },
    {
     "data": {
      "image/png": "[encoded data removed]",
      "text/plain": [
       "<Figure size 720x720 with 1 Axes>"
      ]
     },
     "metadata": {
      "needs_background": "light"
     },
     "output_type": "display_data"
    }
   ],
   "source": [
    "plt.figure(figsize = (10, 10))\n",
    "plt.title('Publisher',fontsize = 20, fontweight = 'bold')\n",
    "\n",
    "sns.stripplot(x=\"Cluster\",\n",
    "              y=\"Publisher\",\n",
    "              data=clusterdataWithLabels.head(300))\n",
    "data['Publisher'].value_counts().head(7)"
   ]
  },
  {
   "cell_type": "markdown",
   "id": "a866892b",
   "metadata": {},
   "source": [
    "### This plot tells me that out of the hundreds of videogame publishers, only 4 have managed to achieve critical success. This tells me that it is extremely hard to make a smash hit videogame. It is surprising for me to see that even though it is very hard, Nintendo and Take-Two Interactive have managed to do so multiple times. "
   ]
  },
  {
   "cell_type": "markdown",
   "id": "5980da63",
   "metadata": {},
   "source": [
    "# Apriori\n",
    "## Which combinations of platform, genre, and publisher belong to the top videogame sales?"
   ]
  },
  {
   "cell_type": "markdown",
   "id": "1c2da584",
   "metadata": {},
   "source": [
    "#### Here I make sure that the data I use for the apriori algorithm uses only nominal attributes since it will not take continuous data. "
   ]
  },
  {
   "cell_type": "code",
   "execution_count": 54,
   "id": "c530b2da",
   "metadata": {},
   "outputs": [
    {
     "data": {
      "text/html": [
       "<div>\n",
       "<style scoped>\n",
       "    .dataframe tbody tr th:only-of-type {\n",
       "        vertical-align: middle;\n",
       "    }\n",
       "\n",
       "    .dataframe tbody tr th {\n",
       "        vertical-align: top;\n",
       "    }\n",
       "\n",
       "    .dataframe thead th {\n",
       "        text-align: right;\n",
       "    }\n",
       "</style>\n",
       "<table border=\"1\" class=\"dataframe\">\n",
       "  <thead>\n",
       "    <tr style=\"text-align: right;\">\n",
       "      <th></th>\n",
       "      <th>Platform</th>\n",
       "      <th>Genre</th>\n",
       "      <th>Publisher</th>\n",
       "    </tr>\n",
       "  </thead>\n",
       "  <tbody>\n",
       "    <tr>\n",
       "      <th>0</th>\n",
       "      <td>Wii</td>\n",
       "      <td>Sports</td>\n",
       "      <td>Nintendo</td>\n",
       "    </tr>\n",
       "    <tr>\n",
       "      <th>1</th>\n",
       "      <td>NES</td>\n",
       "      <td>Platform</td>\n",
       "      <td>Nintendo</td>\n",
       "    </tr>\n",
       "    <tr>\n",
       "      <th>2</th>\n",
       "      <td>Wii</td>\n",
       "      <td>Racing</td>\n",
       "      <td>Nintendo</td>\n",
       "    </tr>\n",
       "    <tr>\n",
       "      <th>3</th>\n",
       "      <td>Wii</td>\n",
       "      <td>Sports</td>\n",
       "      <td>Nintendo</td>\n",
       "    </tr>\n",
       "    <tr>\n",
       "      <th>4</th>\n",
       "      <td>GB</td>\n",
       "      <td>Role-Playing</td>\n",
       "      <td>Nintendo</td>\n",
       "    </tr>\n",
       "  </tbody>\n",
       "</table>\n",
       "</div>"
      ],
      "text/plain": [
       "  Platform         Genre Publisher\n",
       "0      Wii        Sports  Nintendo\n",
       "1      NES      Platform  Nintendo\n",
       "2      Wii        Racing  Nintendo\n",
       "3      Wii        Sports  Nintendo\n",
       "4       GB  Role-Playing  Nintendo"
      ]
     },
     "execution_count": 54,
     "metadata": {},
     "output_type": "execute_result"
    }
   ],
   "source": [
    "data3.head()"
   ]
  },
  {
   "cell_type": "markdown",
   "id": "dc6d3f66",
   "metadata": {},
   "source": [
    "#### Here I turn the dataset into a list in order for the apriori algorithm to run through it. "
   ]
  },
  {
   "cell_type": "code",
   "execution_count": 55,
   "id": "fdfa39d8",
   "metadata": {},
   "outputs": [],
   "source": [
    "dataList = data3.values.tolist()"
   ]
  },
  {
   "cell_type": "markdown",
   "id": "4286ba07",
   "metadata": {},
   "source": [
    "#### Since the dataset is so large, I make the support very low, .0006, so we can get an indepth look into the data. To combat this low minimum support, I make the confidence high at .6 in order to not get hundreds of results as well as to see meaningful association rules."
   ]
  },
  {
   "cell_type": "code",
   "execution_count": 56,
   "id": "0bcd5e85",
   "metadata": {},
   "outputs": [
    {
     "data": {
      "text/plain": [
       "[RelationRecord(items=frozenset({'Sports', 'PS4', 'Electronic Arts'}), support=0.0009639715628388962, ordered_statistics=[OrderedStatistic(items_base=frozenset({'PS4', 'Electronic Arts'}), items_add=frozenset({'Sports'}), confidence=0.6153846153846154, lift=4.353859269460293)]),\n",
       " RelationRecord(items=frozenset({'Falcom Corporation', 'PSP', 'Role-Playing'}), support=0.0006627304494517412, ordered_statistics=[OrderedStatistic(items_base=frozenset({'Falcom Corporation'}), items_add=frozenset({'PSP', 'Role-Playing'}), confidence=0.6875, lift=59.432942708333336), OrderedStatistic(items_base=frozenset({'Falcom Corporation', 'PSP'}), items_add=frozenset({'Role-Playing'}), confidence=0.9166666666666666, lift=10.22502240143369), OrderedStatistic(items_base=frozenset({'Falcom Corporation', 'Role-Playing'}), items_add=frozenset({'PSP'}), confidence=0.7333333333333333, lift=10.034514976641933)]),\n",
       " RelationRecord(items=frozenset({'Fighting', 'Ignition Entertainment', 'PS2'}), support=0.0007832268948066032, ordered_statistics=[OrderedStatistic(items_base=frozenset({'Fighting', 'Ignition Entertainment'}), items_add=frozenset({'PS2'}), confidence=0.619047619047619, lift=4.754721138802582), OrderedStatistic(items_base=frozenset({'Ignition Entertainment', 'PS2'}), items_add=frozenset({'Fighting'}), confidence=0.7647058823529411, lift=14.967674805771365)]),\n",
       " RelationRecord(items=frozenset({'NG', 'Fighting', 'SNK'}), support=0.0006024822267743102, ordered_statistics=[OrderedStatistic(items_base=frozenset({'NG'}), items_add=frozenset({'Fighting', 'SNK'}), confidence=0.8333333333333334, lift=628.7121212121212), OrderedStatistic(items_base=frozenset({'NG', 'Fighting'}), items_add=frozenset({'SNK'}), confidence=0.9090909090909091, lift=685.8677685950413), OrderedStatistic(items_base=frozenset({'NG', 'SNK'}), items_add=frozenset({'Fighting'}), confidence=1.0, lift=19.57311320754717)]),\n",
       " RelationRecord(items=frozenset({'Fighting', 'Virgin Interactive', 'PS'}), support=0.0007832268948066032, ordered_statistics=[OrderedStatistic(items_base=frozenset({'Fighting', 'Virgin Interactive'}), items_add=frozenset({'PS'}), confidence=0.6842105263157894, lift=9.495423340961098)]),\n",
       " RelationRecord(items=frozenset({'Platform', 'Nintendo', 'GB'}), support=0.0009639715628388962, ordered_statistics=[OrderedStatistic(items_base=frozenset({'Platform', 'GB'}), items_add=frozenset({'Nintendo'}), confidence=0.8421052631578947, lift=19.88230890169948)]),\n",
       " RelationRecord(items=frozenset({'Nintendo', 'Puzzle', 'GB'}), support=0.0009037233401614652, ordered_statistics=[OrderedStatistic(items_base=frozenset({'Puzzle', 'GB'}), items_add=frozenset({'Nintendo'}), confidence=1.0, lift=23.610241820768138)]),\n",
       " RelationRecord(items=frozenset({'GBA', 'Misc', 'Zoo Digital Publishing'}), support=0.0007229786721291722, ordered_statistics=[OrderedStatistic(items_base=frozenset({'Misc', 'Zoo Digital Publishing'}), items_add=frozenset({'GBA'}), confidence=0.6666666666666666, lift=13.46147607461476)]),\n",
       " RelationRecord(items=frozenset({'Strategy', 'PC', 'Kalypso Media'}), support=0.0007832268948066032, ordered_statistics=[OrderedStatistic(items_base=frozenset({'PC', 'Kalypso Media'}), items_add=frozenset({'Strategy'}), confidence=0.65, lift=15.842437591776799), OrderedStatistic(items_base=frozenset({'Strategy', 'Kalypso Media'}), items_add=frozenset({'PC'}), confidence=0.8125, lift=14.047786458333334)]),\n",
       " RelationRecord(items=frozenset({'Sports', 'Konami Digital Entertainment', 'N64'}), support=0.0010242197855163274, ordered_statistics=[OrderedStatistic(items_base=frozenset({'Konami Digital Entertainment', 'N64'}), items_add=frozenset({'Sports'}), confidence=0.68, lift=4.811014492753624)]),\n",
       " RelationRecord(items=frozenset({'Misc', 'MTV Games', 'PS3'}), support=0.0006024822267743102, ordered_statistics=[OrderedStatistic(items_base=frozenset({'MTV Games', 'PS3'}), items_add=frozenset({'Misc'}), confidence=1.0, lift=9.544565842438182)]),\n",
       " RelationRecord(items=frozenset({'Misc', 'MTV Games', 'Wii'}), support=0.0007229786721291722, ordered_statistics=[OrderedStatistic(items_base=frozenset({'MTV Games', 'Wii'}), items_add=frozenset({'Misc'}), confidence=1.0, lift=9.544565842438182)]),\n",
       " RelationRecord(items=frozenset({'Misc', 'MTV Games', 'X360'}), support=0.0006024822267743102, ordered_statistics=[OrderedStatistic(items_base=frozenset({'MTV Games', 'X360'}), items_add=frozenset({'Misc'}), confidence=1.0, lift=9.544565842438182)]),\n",
       " RelationRecord(items=frozenset({'Strategy', 'PC', 'Microsoft Game Studios'}), support=0.0009037233401614652, ordered_statistics=[OrderedStatistic(items_base=frozenset({'Strategy', 'Microsoft Game Studios'}), items_add=frozenset({'PC'}), confidence=0.8333333333333334, lift=14.407986111111112)]),\n",
       " RelationRecord(items=frozenset({'Microsoft Game Studios', 'Role-Playing', 'X360'}), support=0.0006024822267743102, ordered_statistics=[OrderedStatistic(items_base=frozenset({'Microsoft Game Studios', 'Role-Playing'}), items_add=frozenset({'X360'}), confidence=0.625, lift=8.200592885375494)]),\n",
       " RelationRecord(items=frozenset({'XB', 'Sports', 'Microsoft Game Studios'}), support=0.0007832268948066032, ordered_statistics=[OrderedStatistic(items_base=frozenset({'Sports', 'Microsoft Game Studios'}), items_add=frozenset({'XB'}), confidence=0.7647058823529411, lift=15.403626499143346)]),\n",
       " RelationRecord(items=frozenset({'Misc', 'Nordic Games', 'Wii'}), support=0.0006024822267743102, ordered_statistics=[OrderedStatistic(items_base=frozenset({'Misc', 'Nordic Games'}), items_add=frozenset({'Wii'}), confidence=0.9090909090909091, lift=11.387993138936535), OrderedStatistic(items_base=frozenset({'Nordic Games', 'Wii'}), items_add=frozenset({'Misc'}), confidence=0.6666666666666666, lift=6.363043894958788)]),\n",
       " RelationRecord(items=frozenset({'Nippon Ichi Software', 'PS3', 'Role-Playing'}), support=0.0015664537896132064, ordered_statistics=[OrderedStatistic(items_base=frozenset({'Nippon Ichi Software', 'PS3'}), items_add=frozenset({'Role-Playing'}), confidence=0.787878787878788, lift=8.788449006190943)]),\n",
       " RelationRecord(items=frozenset({'Nippon Ichi Software', 'PSP', 'Role-Playing'}), support=0.0007832268948066032, ordered_statistics=[OrderedStatistic(items_base=frozenset({'Nippon Ichi Software', 'PSP'}), items_add=frozenset({'Role-Playing'}), confidence=0.7647058823529411, lift=8.529965211891207)]),\n",
       " RelationRecord(items=frozenset({'Strategy', 'PC', 'Paradox Interactive'}), support=0.0007832268948066032, ordered_statistics=[OrderedStatistic(items_base=frozenset({'Strategy', 'Paradox Interactive'}), items_add=frozenset({'PC'}), confidence=1.0, lift=17.289583333333333)]),\n",
       " RelationRecord(items=frozenset({'Strategy', 'PC', 'Vivendi Games'}), support=0.0006627304494517412, ordered_statistics=[OrderedStatistic(items_base=frozenset({'Strategy', 'Vivendi Games'}), items_add=frozenset({'PC'}), confidence=0.9166666666666666, lift=15.848784722222222)]),\n",
       " RelationRecord(items=frozenset({'PS', 'SquareSoft', 'Role-Playing'}), support=0.0009639715628388962, ordered_statistics=[OrderedStatistic(items_base=frozenset({'PS', 'SquareSoft'}), items_add=frozenset({'Role-Playing'}), confidence=0.6399999999999999, lift=7.138924731182795)]),\n",
       " RelationRecord(items=frozenset({'Square Enix', 'Role-Playing', 'PS2'}), support=0.0013857091215809135, ordered_statistics=[OrderedStatistic(items_base=frozenset({'Square Enix', 'PS2'}), items_add=frozenset({'Role-Playing'}), confidence=0.8846153846153847, lift=9.867504135649297)]),\n",
       " RelationRecord(items=frozenset({'Square Enix', 'PSP', 'Role-Playing'}), support=0.0009037233401614652, ordered_statistics=[OrderedStatistic(items_base=frozenset({'Square Enix', 'PSP'}), items_add=frozenset({'Role-Playing'}), confidence=0.75, lift=8.365927419354838)]),\n",
       " RelationRecord(items=frozenset({'SNES', 'SquareSoft', 'Role-Playing'}), support=0.0007832268948066032, ordered_statistics=[OrderedStatistic(items_base=frozenset({'SNES', 'SquareSoft'}), items_add=frozenset({'Role-Playing'}), confidence=0.9285714285714286, lift=10.35781490015361)]),\n",
       " RelationRecord(items=frozenset({'Sports', 'SAT', 'Sega'}), support=0.0009037233401614652, ordered_statistics=[OrderedStatistic(items_base=frozenset({'Sports', 'SAT'}), items_add=frozenset({'Sega'}), confidence=0.9375, lift=24.351525821596244)])]"
      ]
     },
     "execution_count": 56,
     "metadata": {},
     "output_type": "execute_result"
    }
   ],
   "source": [
    "association_rules = apriori(dataList, min_support = 0.0006, min_confidence = 0.6, min_lift = .2)\n",
    "\n",
    "association_results = list(association_rules)\n",
    "association_results[-26:]"
   ]
  },
  {
   "cell_type": "markdown",
   "id": "2931773d",
   "metadata": {},
   "source": [
    "### These association rules show me a closer look into the data that k-means clustering and the decision tree classifier could not. From this I could see data values that do not appear hundreds of times in the data set yet tells an important detail about the different attributes. For example, I never knew that a company called Nippon Ichi Software specialized in making Role-Playing games for Sony platforms. I also learned that Paradox Interactive made strategy games exclusively for the PC and Kalypso Media also made the majority of its strategy games on the PC. I also learned that on the Sega Saturn, Sega made over 93.75% of the Saturn's sports games. This tells me the Sega Saturn did not have a lot of third party support."
   ]
  },
  {
   "cell_type": "markdown",
   "id": "f2df3687",
   "metadata": {},
   "source": [
    "# Comparison among Data Mining Approaches"
   ]
  },
  {
   "cell_type": "markdown",
   "id": "e88751c7",
   "metadata": {},
   "source": [
    "### In conclusion, each data mining technique revealed new information that could be combined with each other to learn more about the dataset. The decision tree classifier and Apriori algorithm both used the nominal attributes to make comparisons between them and explore their relationships. However, while Apriori required the data to be turned into a list, the decision tree required the nominal attributes to be converted into binary values. K-means clustering was different from the other two algorithms as it focused on the numerical data: videogame sales. From this I learned which publishers, genres, and platforms had videogame sales that sold critically well, and combined this knowledge from the knowledge gained from the decision tree and apriori to make conclusions on the dataset. I learned Nintendo is slow to put out games but has very high quality. I also learned that Nintendo has a trend of having poor third party support, but this changed with the Wii and DS. I also learned that Sony has high third party support and focuses more on putting as much games as possible on their system. I learned that most Publishers focus on one specific genre and that there is a large gap between the top publishers and the average videogame publishers. Therefore, data mining is key to finding new patterns and relationships between data and is an extremely useful tool."
   ]
  }
 ],
 "metadata": {
  "kernelspec": {
   "display_name": "Python 3 (ipykernel)",
   "language": "python",
   "name": "python3"
  },
  "language_info": {
   "codemirror_mode": {
    "name": "ipython",
    "version": 3
   },
   "file_extension": ".py",
   "mimetype": "text/x-python",
   "name": "python",
   "nbconvert_exporter": "python",
   "pygments_lexer": "ipython3",
   "version": "3.9.7"
  }
 },
 "nbformat": 4,
 "nbformat_minor": 5
}
