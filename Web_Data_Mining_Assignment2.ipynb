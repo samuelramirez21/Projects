{
 "cells": [
  {
   "cell_type": "markdown",
   "id": "78882e8c",
   "metadata": {},
   "source": [
    "# Generating Word Embeddings using Word2Vec"
   ]
  },
  {
   "cell_type": "markdown",
   "id": "dbbff38a",
   "metadata": {},
   "source": [
    "#### Samuel Ramirez"
   ]
  },
  {
   "cell_type": "markdown",
   "id": "807f3a82",
   "metadata": {},
   "source": [
    "#### Library Import Section"
   ]
  },
  {
   "cell_type": "code",
   "execution_count": 1,
   "id": "c26ed651",
   "metadata": {},
   "outputs": [
    {
     "name": "stdout",
     "output_type": "stream",
     "text": [
      "Requirement already satisfied: gensim in c:\\users\\sammy\\anaconda3\\lib\\site-packages (4.1.2)\n",
      "Requirement already satisfied: numpy>=1.17.0 in c:\\users\\sammy\\anaconda3\\lib\\site-packages (from gensim) (1.20.3)\n",
      "Requirement already satisfied: Cython==0.29.23 in c:\\users\\sammy\\anaconda3\\lib\\site-packages (from gensim) (0.29.23)\n",
      "Requirement already satisfied: scipy>=0.18.1 in c:\\users\\sammy\\anaconda3\\lib\\site-packages (from gensim) (1.7.1)\n",
      "Requirement already satisfied: smart-open>=1.8.1 in c:\\users\\sammy\\anaconda3\\lib\\site-packages (from gensim) (5.2.1)\n",
      "Note: you may need to restart the kernel to use updated packages.\n"
     ]
    }
   ],
   "source": [
    "pip install -U gensim"
   ]
  },
  {
   "cell_type": "code",
   "execution_count": 2,
   "id": "2b8d10f3",
   "metadata": {},
   "outputs": [
    {
     "name": "stdout",
     "output_type": "stream",
     "text": [
      "Requirement already satisfied: Unidecode in c:\\users\\sammy\\anaconda3\\lib\\site-packages (1.2.0)Note: you may need to restart the kernel to use updated packages.\n",
      "\n"
     ]
    }
   ],
   "source": [
    "pip install Unidecode"
   ]
  },
  {
   "cell_type": "code",
   "execution_count": 3,
   "id": "43670847",
   "metadata": {},
   "outputs": [
    {
     "name": "stderr",
     "output_type": "stream",
     "text": [
      "[nltk_data] Downloading package wordnet to\n",
      "[nltk_data]     C:\\Users\\sammy\\AppData\\Roaming\\nltk_data...\n",
      "[nltk_data]   Package wordnet is already up-to-date!\n",
      "[nltk_data] Downloading package stopwords to\n",
      "[nltk_data]     C:\\Users\\sammy\\AppData\\Roaming\\nltk_data...\n",
      "[nltk_data]   Package stopwords is already up-to-date!\n"
     ]
    }
   ],
   "source": [
    "import nltk\n",
    "import gensim\n",
    "import pickle\n",
    "import warnings\n",
    "import unidecode\n",
    "import pandas as pd\n",
    "nltk.download('punkt')\n",
    "nltk.download('wordnet')\n",
    "nltk.download('stopwords')\n",
    "warnings.filterwarnings('ignore')\n",
    "from nltk.corpus import stopwords\n",
    "from sklearn.manifold import TSNE\n",
    "from bokeh.io import output_notebook\n",
    "from bokeh.plotting import show, figure\n",
    "from gensim.models.word2vec import Word2Vec\n",
    "from nltk import sent_tokenize, word_tokenize"
   ]
  },
  {
   "cell_type": "markdown",
   "id": "0667ff9a",
   "metadata": {},
   "source": [
    "### 1.  Pubmed Abstracts is a binary sample containing 132,935 abstracts. It is a list of strings that can be read using the following"
   ]
  },
  {
   "cell_type": "code",
   "execution_count": 4,
   "id": "657d63e4",
   "metadata": {},
   "outputs": [],
   "source": [
    "# Reading the list of texts with custom file path\n",
    "with open (\"/content/temp/pubmed_abstracts_assignment_2.bin\", 'rb') as fp:\n",
    "    abstract_sample = pickle.load(fp)"
   ]
  },
  {
   "cell_type": "markdown",
   "id": "162fed2c",
   "metadata": {},
   "source": [
    "#### Here we convert the list of texts to lower-case and drop any accent markers before tokenization, in order so that all the embeddings will be uncased."
   ]
  },
  {
   "cell_type": "code",
   "execution_count": 5,
   "id": "b3bc19aa",
   "metadata": {},
   "outputs": [],
   "source": [
    "# Convert list of abstracts to lowercase\n",
    "for i in range(len(abstract_sample)):\n",
    "    abstract_sample[i] = abstract_sample[i].lower()"
   ]
  },
  {
   "cell_type": "code",
   "execution_count": 6,
   "id": "e285d0ed",
   "metadata": {},
   "outputs": [],
   "source": [
    "# Drop any accent markers in list of abstracts\n",
    "for i in range(len(abstract_sample)):\n",
    "    abstract_sample[i] = unidecode.unidecode(abstract_sample[i])"
   ]
  },
  {
   "cell_type": "markdown",
   "id": "ee379701",
   "metadata": {},
   "source": [
    "### 2. Each sentence in the abstract_sample list must be tokenized."
   ]
  },
  {
   "cell_type": "code",
   "execution_count": 8,
   "id": "97026e6f",
   "metadata": {},
   "outputs": [],
   "source": [
    "tokenized_sents = [word_tokenize(i) for i in abstract_sample]"
   ]
  },
  {
   "cell_type": "code",
   "execution_count": 9,
   "id": "48ed996d",
   "metadata": {},
   "outputs": [
    {
     "name": "stdout",
     "output_type": "stream",
     "text": [
      "[['intervirology', '.', 'extensively', 'degraded', 'rna', 'was', 'isolated', 'from', 'virions', 'of', 'influenza', 'virus', 'which', 'had', 'been', 'oxidized', 'with', 'sodium', 'm-periodate', '.', 'similarly', ',', 'although', 'to', 'a', 'lesser', 'extent', ',', 'rna', 'isolated', 'from', 'periodate-treated', 'ribonucleoprotein', 'of', 'influenza', 'virus', 'was', 'also', 'degraded', '.', 'in', 'contrast', ',', 'influenza', 'virus', 'rna', ',', 'if', 'first', 'freed', 'from', 'other', 'virion', 'components', ',', 'was', 'not', 'degraded', 'by', 'periodate', 'oxidation', '.']]\n"
     ]
    }
   ],
   "source": [
    "print (tokenized_sents[0:1])"
   ]
  },
  {
   "cell_type": "markdown",
   "id": "e454f7a4",
   "metadata": {},
   "source": [
    "### 3. Pre-processing is applied to improve the embedding model by removing punctuation, removing stopwords such as \"and\" and \"the\", and applying lemmatization which groups together inflected forms of a word."
   ]
  },
  {
   "cell_type": "code",
   "execution_count": 10,
   "id": "35716a84",
   "metadata": {},
   "outputs": [],
   "source": [
    "def remove_punctuation(abstract):\n",
    "    punctuations = \".,\\\"-\\\\/#!?$%\\^&\\*;:{}=\\-_'~()\"    \n",
    "    filtered_abstract = [token for token in abstract if (not token in punctuations)]\n",
    "    return filtered_abstract\n",
    "\n",
    "def apply_stopwording(abstract, min_len):\n",
    "    filtered_abstract = [token.lower() for token in abstract if (not token in stopwords.words('english') and len(token)>min_len)]\n",
    "    return filtered_abstract\n",
    "\n",
    "def apply_lemmatization(abstract):\n",
    "    lemmatizer = nltk.WordNetLemmatizer()\n",
    "    normalized_abstract = [lemmatizer.lemmatize(token) for token in abstract]\n",
    "    return normalized_abstract"
   ]
  },
  {
   "cell_type": "code",
   "execution_count": 11,
   "id": "45f22a5e",
   "metadata": {},
   "outputs": [],
   "source": [
    "g_sentences=[]\n",
    "for sentence in tokenized_sents:\n",
    "    g_sentences.append(apply_lemmatization(apply_stopwording(remove_punctuation(sentence),3)))"
   ]
  },
  {
   "cell_type": "code",
   "execution_count": 12,
   "id": "15ef7201",
   "metadata": {},
   "outputs": [
    {
     "name": "stdout",
     "output_type": "stream",
     "text": [
      "[['intervirology', 'extensively', 'degraded', 'isolated', 'virion', 'influenza', 'virus', 'oxidized', 'sodium', 'm-periodate', 'similarly', 'although', 'lesser', 'extent', 'isolated', 'periodate-treated', 'ribonucleoprotein', 'influenza', 'virus', 'also', 'degraded', 'contrast', 'influenza', 'virus', 'first', 'freed', 'virion', 'component', 'degraded', 'periodate', 'oxidation'], ['journal', 'general', 'microbiology', 'mutant', 'stock', 'strain', 'escherichia', 'coli', 'sensitive', 'acriflavine', 'presence', 'inorganic', 'phosphate', 'resistant', 'acriflavine', 'absence', 'mutated', 'spontaneously', 'resistance', 'acriflavine', 'plus', 'phosphate', 'synergistic', 'effect', 'phosphate', 'acriflavine', 'sensitivity', 'increased', 'high', 'value', 'genetic', 'analysis', 'suggested', 'mutation', 'occurred', 'gene', 'acra', 'electron', 'microscopic', 'observation', 'suggested', 'presence', 'acriflavine', 'plus', 'phosphate', 'affected', 'structure', 'plasma', 'membrane', 'cytoplasm', 'structural', 'alteration', 'caused', 'acriflavine', 'alone', 'acridine', 'orange', 'plus', 'phosphate', 'effectively', 'eliminate', 'plasmid', 'f8-gal+', 'acridine', 'orange', 'alone'], ['journal', 'pharmacy', 'pharmacology', 'interaction', 'series', 'antihistamine', 'monolayers', 'l-alpha-dipalmitoyl', 'lecithin', 'examined', 'increase', 'monolayer', 'surface', 'pressure', 'noted', 'monolayers', 'spread', 'antihistamine', 'solution', 'suggesting', 'penetration', 'film', 'drug', 'molecule', 'high', 'surface', 'pressure', 'apparent', 'ejection', 'drug', 'molecule', 'film', 'ability', 'antihistamine', 'increase', 'surface', 'pressure', 'correlated', 'surface', 'activity', 'air-solution', 'interface', 'effect', 'drug', 'concentration', 'magnitude', 'surface', 'pressure', 'examined', 'diphenhydramine', 'hydrochloride', 'application', 'gibbs', 'adsorption', 'equation', 'surface', 'compression', 'indicated', 'approximate', 'area', 'molecule', 'diphenhydramine', 'film', 'good', 'agreement', 'value', 'previously', 'obtained', 'air-solution', 'interface', 'preliminary', 'measurement', 'showed', 'surface', 'pressure', 'increase', 'larger', 'presence', 'phosphate', 'buffer', '6-8.', 'clear', 'whether', 'effect', 'caused', 'buffer', 'component', 'effect'], ['urology', 'urinary', 'enzyme', 'pattern', 'kidney', 'tissue', 'pattern', 'investigated', 'simultaneously', 'urologic', 'patient', 'contrast', 'renal', 'disorder', 'sixteen', 'malignant', 'tumor', 'kidney', 'showed', 'significant', 'drop', 'gamma-gt', 'tumor', 'tissue', 'urine', 'urinary', 'enzymology', 'used', 'screening', 'test', 'measurement', 'gamma-gt', 'urine', 'however', 'permit', 'diagnosis', 'kidney', 'tumor'], ['archive', 'virology', 'growth', 'avian', 'infectious', 'bronchitis', 'virus', 'chick', 'kidney', 'cell', 'different', 'value', 'range', '6.0-9.0', 'demonstrated', 'although', 'virus', 'released', 'much', 'faster', 'rate', 'higher', 'value', 'titre', 'tended', 'drop', 'quickly', 'acid', 'value', 'virus', 'released', 'slowly', 'reached', 'maximum', 'titre', 'similar', 'higher', 'value', 'showed', 'minimum', 'reduction', 'infectivity', 'hour', 'post', 'inoculation', 'stability', 'virus', 'tissue', 'culture', 'medium', 'shown', 'directly', 'related', '6.0-8.0', 'stable', 'acid', 'value', 'degree', 'cytopathogenicity', 'induced', 'chick', 'kidney', 'cell', 'following', 'infection', 'directly', 'related', 'cell', 'incubated', 'occurring', 'earlier', 'extensively', 'cell', 'higher', 'value', 'cell', 'macromolecule', 'synthesis', 'chick', 'kidney', 'cell', 'inhibited', 'following', 'infection', 'apparently', 'cell', 'damage', 'death']]\n"
     ]
    }
   ],
   "source": [
    "print(g_sentences[0:5])"
   ]
  },
  {
   "cell_type": "markdown",
   "id": "655fdb38",
   "metadata": {},
   "source": [
    "### 4/5. Embeddings of window sizes 2, 5, 10, and 20 are generated for both Skip-Gram and CBOW methods with an embedding size of 2048 for a total of eight embeddings."
   ]
  },
  {
   "cell_type": "markdown",
   "id": "928e9ef1",
   "metadata": {},
   "source": [
    "#### Skip-Gram method embeddings"
   ]
  },
  {
   "cell_type": "code",
   "execution_count": 13,
   "id": "a28409f1",
   "metadata": {},
   "outputs": [],
   "source": [
    "w2v_model = Word2Vec(sentences=g_sentences, vector_size=2048, sg=1, window = 2, min_count=5, seed = 20, workers=10)"
   ]
  },
  {
   "cell_type": "code",
   "execution_count": 14,
   "id": "5fa131b4",
   "metadata": {},
   "outputs": [],
   "source": [
    "w2v_model2 = Word2Vec(sentences=g_sentences, vector_size=2048, sg=1, window = 5, min_count=5, seed = 20, workers=10)"
   ]
  },
  {
   "cell_type": "code",
   "execution_count": 15,
   "id": "bd0f262a",
   "metadata": {},
   "outputs": [],
   "source": [
    "w2v_model3 = Word2Vec(sentences=g_sentences, vector_size=2048, sg=1, window = 10, min_count=5, seed = 20, workers=10)"
   ]
  },
  {
   "cell_type": "code",
   "execution_count": 16,
   "id": "f87db1fe",
   "metadata": {},
   "outputs": [],
   "source": [
    "w2v_model4 = Word2Vec(sentences=g_sentences, vector_size=2048, sg=1, window = 20, min_count=5, seed = 20, workers=10)"
   ]
  },
  {
   "cell_type": "markdown",
   "id": "d8cadd54",
   "metadata": {},
   "source": [
    "#### CBOW method embeddings"
   ]
  },
  {
   "cell_type": "code",
   "execution_count": 17,
   "id": "97003606",
   "metadata": {},
   "outputs": [],
   "source": [
    "w2v_model5 = Word2Vec(sentences=g_sentences, vector_size=2048, cbow_mean=1, window = 2, min_count=5, seed = 20, workers=10)"
   ]
  },
  {
   "cell_type": "code",
   "execution_count": 18,
   "id": "bd494312",
   "metadata": {},
   "outputs": [],
   "source": [
    "w2v_model6 = Word2Vec(sentences=g_sentences, vector_size=2048, cbow_mean=1, window = 5, min_count=5, seed = 20, workers=10)"
   ]
  },
  {
   "cell_type": "code",
   "execution_count": 19,
   "id": "c71f32e2",
   "metadata": {},
   "outputs": [],
   "source": [
    "w2v_model7 = Word2Vec(sentences=g_sentences, vector_size=2048, cbow_mean=1, window = 10, min_count=5, seed = 20, workers=10)"
   ]
  },
  {
   "cell_type": "code",
   "execution_count": 20,
   "id": "47b265a8",
   "metadata": {},
   "outputs": [],
   "source": [
    "w2v_model8 = Word2Vec(sentences=g_sentences, vector_size=2048, cbow_mean=1, window = 20, min_count=5, seed = 20, workers=10)"
   ]
  },
  {
   "cell_type": "markdown",
   "id": "f3186f4a",
   "metadata": {},
   "source": [
    "### 6. Using the generated word embeddings, we create four meaningful examples of extrinsic testing."
   ]
  },
  {
   "cell_type": "code",
   "execution_count": 100,
   "id": "d62cd2a7",
   "metadata": {},
   "outputs": [
    {
     "name": "stdout",
     "output_type": "stream",
     "text": [
      "[('lean', 0.5054928660392761), ('nonobese', 0.5050557255744934), ('non-obese', 0.5045276284217834), ('nondiabetic', 0.49842312932014465), ('non-diabetic', 0.4945414364337921)]\n"
     ]
    }
   ],
   "source": [
    "print(w2v_model.wv.most_similar(positive=['obese','healthy'], negative=['sick'],topn=5))"
   ]
  },
  {
   "cell_type": "code",
   "execution_count": 101,
   "id": "5554f54e",
   "metadata": {},
   "outputs": [
    {
     "name": "stdout",
     "output_type": "stream",
     "text": [
      "[('non-social', 0.4722740948200226), ('cognitive-behavioural', 0.4501905143260956), ('hiv/aids-related', 0.44599470496177673), (\"'social\", 0.44397109746932983), ('self-related', 0.44346728920936584)]\n"
     ]
    }
   ],
   "source": [
    "print(w2v_model4.wv.most_similar(positive=['social','introvert'], negative=['extravert'],topn=5))"
   ]
  },
  {
   "cell_type": "code",
   "execution_count": 102,
   "id": "c9f6fd1f",
   "metadata": {},
   "outputs": [
    {
     "name": "stdout",
     "output_type": "stream",
     "text": [
      "[('positive', 0.5243296027183533), ('inotropic', 0.43952125310897827), ('dromotropic', 0.4283335208892822), ('chronotropic', 0.4239177107810974), ('allosteric', 0.41455790400505066)]\n"
     ]
    }
   ],
   "source": [
    "print(w2v_model5.wv.most_similar(positive=['negative','proton'], negative=['electron'],topn=5))"
   ]
  },
  {
   "cell_type": "code",
   "execution_count": 103,
   "id": "f8da3d68",
   "metadata": {},
   "outputs": [
    {
     "name": "stdout",
     "output_type": "stream",
     "text": [
      "[('remedy', 0.5459733605384827), ('palliation', 0.5424662828445435), ('treating', 0.5284415483474731), ('burch', 0.509563148021698), ('suppository', 0.46416959166526794)]\n"
     ]
    }
   ],
   "source": [
    "print(w2v_model8.wv.most_similar(positive=['ailment','cure'], negative=['disease'],topn=5))"
   ]
  },
  {
   "cell_type": "markdown",
   "id": "c4ff2e9d",
   "metadata": {},
   "source": [
    "#### Here we generate a .emb file for each of the eight embeddings."
   ]
  },
  {
   "cell_type": "code",
   "execution_count": 105,
   "id": "90f48165",
   "metadata": {},
   "outputs": [],
   "source": [
    "w2v_model.wv.save_word2vec_format('./The_Hackers_pubmed_w2v_uncased_2048_2_skip.emb')\n",
    "\n",
    "w2v_model2.wv.save_word2vec_format('./The_Hackers_pubmed_w2v_uncased_2048_5_skip.emb')\n",
    "\n",
    "w2v_model3.wv.save_word2vec_format('./The_Hackers_pubmed_w2v_uncased_2048_10_skip.emb')\n",
    "\n",
    "w2v_model4.wv.save_word2vec_format('./The_Hackers_pubmed_w2v_uncased_2048_20_skip.emb')\n",
    "\n",
    "w2v_model5.wv.save_word2vec_format('./The_Hackers_pubmed_w2v_uncased_2048_2_cbow.emb')\n",
    "\n",
    "w2v_model6.wv.save_word2vec_format('./The_Hackers_pubmed_w2v_uncased_2048_5_cbow.emb')\n",
    "\n",
    "w2v_model7.wv.save_word2vec_format('./The_Hackers_pubmed_w2v_uncased_2048_10_cbow.emb')\n",
    "\n",
    "w2v_model8.wv.save_word2vec_format('./The_Hackers_pubmed_w2v_uncased_2048_20_cbow.emb')"
   ]
  }
 ],
 "metadata": {
  "kernelspec": {
   "display_name": "Python 3 (ipykernel)",
   "language": "python",
   "name": "python3"
  },
  "language_info": {
   "codemirror_mode": {
    "name": "ipython",
    "version": 3
   },
   "file_extension": ".py",
   "mimetype": "text/x-python",
   "name": "python",
   "nbconvert_exporter": "python",
   "pygments_lexer": "ipython3",
   "version": "3.9.7"
  }
 },
 "nbformat": 4,
 "nbformat_minor": 5
}
